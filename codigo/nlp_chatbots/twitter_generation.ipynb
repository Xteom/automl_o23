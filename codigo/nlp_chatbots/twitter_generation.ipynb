{
  "cells": [
    {
      "cell_type": "markdown",
      "metadata": {},
      "source": [
        "<a target=\"_blank\" href=\"https://colab.research.google.com/github/sonder-art/automl_o23/blob/main/codigo/nlp_chatbots/twitter_generation.ipynb\">\n",
        "  <img src=\"https://colab.research.google.com/assets/colab-badge.svg\" alt=\"Open In Colab\"/>\n",
        "</a>"
      ]
    },
    {
      "cell_type": "markdown",
      "metadata": {
        "id": "8AK7lbbJnRb3"
      },
      "source": [
        "# Instalacion de librerias"
      ]
    },
    {
      "cell_type": "code",
      "execution_count": 1,
      "metadata": {
        "colab": {
          "base_uri": "https://localhost:8080/"
        },
        "id": "Tpl8M4rcADon",
        "outputId": "383effa2-4cce-47d2-edc1-e17d2c8e6903"
      },
      "outputs": [
        {
          "name": "stdout",
          "output_type": "stream",
          "text": [
            "Requirement already satisfied: transformers in /usr/local/lib/python3.10/dist-packages (4.34.1)\n",
            "Requirement already satisfied: datasets in /usr/local/lib/python3.10/dist-packages (2.14.6)\n",
            "Requirement already satisfied: filelock in /usr/local/lib/python3.10/dist-packages (from transformers) (3.12.4)\n",
            "Requirement already satisfied: huggingface-hub<1.0,>=0.16.4 in /usr/local/lib/python3.10/dist-packages (from transformers) (0.17.3)\n",
            "Requirement already satisfied: numpy>=1.17 in /usr/local/lib/python3.10/dist-packages (from transformers) (1.23.5)\n",
            "Requirement already satisfied: packaging>=20.0 in /usr/local/lib/python3.10/dist-packages (from transformers) (23.2)\n",
            "Requirement already satisfied: pyyaml>=5.1 in /usr/local/lib/python3.10/dist-packages (from transformers) (6.0.1)\n",
            "Requirement already satisfied: regex!=2019.12.17 in /usr/local/lib/python3.10/dist-packages (from transformers) (2023.6.3)\n",
            "Requirement already satisfied: requests in /usr/local/lib/python3.10/dist-packages (from transformers) (2.31.0)\n",
            "Requirement already satisfied: tokenizers<0.15,>=0.14 in /usr/local/lib/python3.10/dist-packages (from transformers) (0.14.1)\n",
            "Requirement already satisfied: safetensors>=0.3.1 in /usr/local/lib/python3.10/dist-packages (from transformers) (0.4.0)\n",
            "Requirement already satisfied: tqdm>=4.27 in /usr/local/lib/python3.10/dist-packages (from transformers) (4.66.1)\n",
            "Requirement already satisfied: pyarrow>=8.0.0 in /usr/local/lib/python3.10/dist-packages (from datasets) (9.0.0)\n",
            "Requirement already satisfied: dill<0.3.8,>=0.3.0 in /usr/local/lib/python3.10/dist-packages (from datasets) (0.3.7)\n",
            "Requirement already satisfied: pandas in /usr/local/lib/python3.10/dist-packages (from datasets) (1.5.3)\n",
            "Requirement already satisfied: xxhash in /usr/local/lib/python3.10/dist-packages (from datasets) (3.4.1)\n",
            "Requirement already satisfied: multiprocess in /usr/local/lib/python3.10/dist-packages (from datasets) (0.70.15)\n",
            "Requirement already satisfied: fsspec[http]<=2023.10.0,>=2023.1.0 in /usr/local/lib/python3.10/dist-packages (from datasets) (2023.6.0)\n",
            "Requirement already satisfied: aiohttp in /usr/local/lib/python3.10/dist-packages (from datasets) (3.8.6)\n",
            "Requirement already satisfied: attrs>=17.3.0 in /usr/local/lib/python3.10/dist-packages (from aiohttp->datasets) (23.1.0)\n",
            "Requirement already satisfied: charset-normalizer<4.0,>=2.0 in /usr/local/lib/python3.10/dist-packages (from aiohttp->datasets) (3.3.1)\n",
            "Requirement already satisfied: multidict<7.0,>=4.5 in /usr/local/lib/python3.10/dist-packages (from aiohttp->datasets) (6.0.4)\n",
            "Requirement already satisfied: async-timeout<5.0,>=4.0.0a3 in /usr/local/lib/python3.10/dist-packages (from aiohttp->datasets) (4.0.3)\n",
            "Requirement already satisfied: yarl<2.0,>=1.0 in /usr/local/lib/python3.10/dist-packages (from aiohttp->datasets) (1.9.2)\n",
            "Requirement already satisfied: frozenlist>=1.1.1 in /usr/local/lib/python3.10/dist-packages (from aiohttp->datasets) (1.4.0)\n",
            "Requirement already satisfied: aiosignal>=1.1.2 in /usr/local/lib/python3.10/dist-packages (from aiohttp->datasets) (1.3.1)\n",
            "Requirement already satisfied: typing-extensions>=3.7.4.3 in /usr/local/lib/python3.10/dist-packages (from huggingface-hub<1.0,>=0.16.4->transformers) (4.5.0)\n",
            "Requirement already satisfied: idna<4,>=2.5 in /usr/local/lib/python3.10/dist-packages (from requests->transformers) (3.4)\n",
            "Requirement already satisfied: urllib3<3,>=1.21.1 in /usr/local/lib/python3.10/dist-packages (from requests->transformers) (2.0.7)\n",
            "Requirement already satisfied: certifi>=2017.4.17 in /usr/local/lib/python3.10/dist-packages (from requests->transformers) (2023.7.22)\n",
            "Requirement already satisfied: python-dateutil>=2.8.1 in /usr/local/lib/python3.10/dist-packages (from pandas->datasets) (2.8.2)\n",
            "Requirement already satisfied: pytz>=2020.1 in /usr/local/lib/python3.10/dist-packages (from pandas->datasets) (2023.3.post1)\n",
            "Requirement already satisfied: six>=1.5 in /usr/local/lib/python3.10/dist-packages (from python-dateutil>=2.8.1->pandas->datasets) (1.16.0)\n",
            "Requirement already satisfied: accelerate in /usr/local/lib/python3.10/dist-packages (0.24.1)\n",
            "Requirement already satisfied: numpy>=1.17 in /usr/local/lib/python3.10/dist-packages (from accelerate) (1.23.5)\n",
            "Requirement already satisfied: packaging>=20.0 in /usr/local/lib/python3.10/dist-packages (from accelerate) (23.2)\n",
            "Requirement already satisfied: psutil in /usr/local/lib/python3.10/dist-packages (from accelerate) (5.9.5)\n",
            "Requirement already satisfied: pyyaml in /usr/local/lib/python3.10/dist-packages (from accelerate) (6.0.1)\n",
            "Requirement already satisfied: torch>=1.10.0 in /usr/local/lib/python3.10/dist-packages (from accelerate) (2.1.0+cu118)\n",
            "Requirement already satisfied: huggingface-hub in /usr/local/lib/python3.10/dist-packages (from accelerate) (0.17.3)\n",
            "Requirement already satisfied: filelock in /usr/local/lib/python3.10/dist-packages (from torch>=1.10.0->accelerate) (3.12.4)\n",
            "Requirement already satisfied: typing-extensions in /usr/local/lib/python3.10/dist-packages (from torch>=1.10.0->accelerate) (4.5.0)\n",
            "Requirement already satisfied: sympy in /usr/local/lib/python3.10/dist-packages (from torch>=1.10.0->accelerate) (1.12)\n",
            "Requirement already satisfied: networkx in /usr/local/lib/python3.10/dist-packages (from torch>=1.10.0->accelerate) (3.2)\n",
            "Requirement already satisfied: jinja2 in /usr/local/lib/python3.10/dist-packages (from torch>=1.10.0->accelerate) (3.1.2)\n",
            "Requirement already satisfied: fsspec in /usr/local/lib/python3.10/dist-packages (from torch>=1.10.0->accelerate) (2023.6.0)\n",
            "Requirement already satisfied: triton==2.1.0 in /usr/local/lib/python3.10/dist-packages (from torch>=1.10.0->accelerate) (2.1.0)\n",
            "Requirement already satisfied: requests in /usr/local/lib/python3.10/dist-packages (from huggingface-hub->accelerate) (2.31.0)\n",
            "Requirement already satisfied: tqdm>=4.42.1 in /usr/local/lib/python3.10/dist-packages (from huggingface-hub->accelerate) (4.66.1)\n",
            "Requirement already satisfied: MarkupSafe>=2.0 in /usr/local/lib/python3.10/dist-packages (from jinja2->torch>=1.10.0->accelerate) (2.1.3)\n",
            "Requirement already satisfied: charset-normalizer<4,>=2 in /usr/local/lib/python3.10/dist-packages (from requests->huggingface-hub->accelerate) (3.3.1)\n",
            "Requirement already satisfied: idna<4,>=2.5 in /usr/local/lib/python3.10/dist-packages (from requests->huggingface-hub->accelerate) (3.4)\n",
            "Requirement already satisfied: urllib3<3,>=1.21.1 in /usr/local/lib/python3.10/dist-packages (from requests->huggingface-hub->accelerate) (2.0.7)\n",
            "Requirement already satisfied: certifi>=2017.4.17 in /usr/local/lib/python3.10/dist-packages (from requests->huggingface-hub->accelerate) (2023.7.22)\n",
            "Requirement already satisfied: mpmath>=0.19 in /usr/local/lib/python3.10/dist-packages (from sympy->torch>=1.10.0->accelerate) (1.3.0)\n",
            "Requirement already satisfied: transformers[torch] in /usr/local/lib/python3.10/dist-packages (4.34.1)\n",
            "Requirement already satisfied: filelock in /usr/local/lib/python3.10/dist-packages (from transformers[torch]) (3.12.4)\n",
            "Requirement already satisfied: huggingface-hub<1.0,>=0.16.4 in /usr/local/lib/python3.10/dist-packages (from transformers[torch]) (0.17.3)\n",
            "Requirement already satisfied: numpy>=1.17 in /usr/local/lib/python3.10/dist-packages (from transformers[torch]) (1.23.5)\n",
            "Requirement already satisfied: packaging>=20.0 in /usr/local/lib/python3.10/dist-packages (from transformers[torch]) (23.2)\n",
            "Requirement already satisfied: pyyaml>=5.1 in /usr/local/lib/python3.10/dist-packages (from transformers[torch]) (6.0.1)\n",
            "Requirement already satisfied: regex!=2019.12.17 in /usr/local/lib/python3.10/dist-packages (from transformers[torch]) (2023.6.3)\n",
            "Requirement already satisfied: requests in /usr/local/lib/python3.10/dist-packages (from transformers[torch]) (2.31.0)\n",
            "Requirement already satisfied: tokenizers<0.15,>=0.14 in /usr/local/lib/python3.10/dist-packages (from transformers[torch]) (0.14.1)\n",
            "Requirement already satisfied: safetensors>=0.3.1 in /usr/local/lib/python3.10/dist-packages (from transformers[torch]) (0.4.0)\n",
            "Requirement already satisfied: tqdm>=4.27 in /usr/local/lib/python3.10/dist-packages (from transformers[torch]) (4.66.1)\n",
            "Requirement already satisfied: torch!=1.12.0,>=1.10 in /usr/local/lib/python3.10/dist-packages (from transformers[torch]) (2.1.0+cu118)\n",
            "Requirement already satisfied: accelerate>=0.20.3 in /usr/local/lib/python3.10/dist-packages (from transformers[torch]) (0.24.1)\n",
            "Requirement already satisfied: psutil in /usr/local/lib/python3.10/dist-packages (from accelerate>=0.20.3->transformers[torch]) (5.9.5)\n",
            "Requirement already satisfied: fsspec in /usr/local/lib/python3.10/dist-packages (from huggingface-hub<1.0,>=0.16.4->transformers[torch]) (2023.6.0)\n",
            "Requirement already satisfied: typing-extensions>=3.7.4.3 in /usr/local/lib/python3.10/dist-packages (from huggingface-hub<1.0,>=0.16.4->transformers[torch]) (4.5.0)\n",
            "Requirement already satisfied: sympy in /usr/local/lib/python3.10/dist-packages (from torch!=1.12.0,>=1.10->transformers[torch]) (1.12)\n",
            "Requirement already satisfied: networkx in /usr/local/lib/python3.10/dist-packages (from torch!=1.12.0,>=1.10->transformers[torch]) (3.2)\n",
            "Requirement already satisfied: jinja2 in /usr/local/lib/python3.10/dist-packages (from torch!=1.12.0,>=1.10->transformers[torch]) (3.1.2)\n",
            "Requirement already satisfied: triton==2.1.0 in /usr/local/lib/python3.10/dist-packages (from torch!=1.12.0,>=1.10->transformers[torch]) (2.1.0)\n",
            "Requirement already satisfied: charset-normalizer<4,>=2 in /usr/local/lib/python3.10/dist-packages (from requests->transformers[torch]) (3.3.1)\n",
            "Requirement already satisfied: idna<4,>=2.5 in /usr/local/lib/python3.10/dist-packages (from requests->transformers[torch]) (3.4)\n",
            "Requirement already satisfied: urllib3<3,>=1.21.1 in /usr/local/lib/python3.10/dist-packages (from requests->transformers[torch]) (2.0.7)\n",
            "Requirement already satisfied: certifi>=2017.4.17 in /usr/local/lib/python3.10/dist-packages (from requests->transformers[torch]) (2023.7.22)\n",
            "Requirement already satisfied: MarkupSafe>=2.0 in /usr/local/lib/python3.10/dist-packages (from jinja2->torch!=1.12.0,>=1.10->transformers[torch]) (2.1.3)\n",
            "Requirement already satisfied: mpmath>=0.19 in /usr/local/lib/python3.10/dist-packages (from sympy->torch!=1.12.0,>=1.10->transformers[torch]) (1.3.0)\n"
          ]
        }
      ],
      "source": [
        "!pip install transformers datasets\n",
        "!pip install accelerate -U\n",
        "!pip install transformers[torch] -U"
      ]
    },
    {
      "cell_type": "markdown",
      "metadata": {
        "id": "3PnvhhcqnVNU"
      },
      "source": [
        "# Importar Librerias"
      ]
    },
    {
      "cell_type": "code",
      "execution_count": 2,
      "metadata": {
        "id": "A_CO84J1ACNN"
      },
      "outputs": [],
      "source": [
        "import matplotlib.pyplot as plt\n",
        "import seaborn as sns\n",
        "import pandas as pd\n",
        "from datasets import load_dataset\n",
        "from transformers import GPT2LMHeadModel, GPT2Tokenizer, TextDataset, DataCollatorForLanguageModeling\n",
        "from transformers import Trainer, TrainingArguments\n",
        "import torch"
      ]
    },
    {
      "cell_type": "markdown",
      "metadata": {
        "id": "x6RY1C5NnYFg"
      },
      "source": [
        "# Revisar device (Cuda)"
      ]
    },
    {
      "cell_type": "code",
      "execution_count": 5,
      "metadata": {
        "colab": {
          "base_uri": "https://localhost:8080/"
        },
        "id": "JTp_jYg1kETc",
        "outputId": "18c4f3f5-df5c-4647-f3d2-b0a3002873b6"
      },
      "outputs": [
        {
          "name": "stdout",
          "output_type": "stream",
          "text": [
            "cuda\n"
          ]
        }
      ],
      "source": [
        "device = 'cuda' if torch.cuda.is_available() else 'cpu'\n",
        "print(device)"
      ]
    },
    {
      "cell_type": "markdown",
      "metadata": {
        "id": "f1AkzxoOnbgf"
      },
      "source": [
        "# Login a Huggingface"
      ]
    },
    {
      "cell_type": "markdown",
      "metadata": {
        "id": "R3QPqvdqndpz"
      },
      "source": [
        "Asegurate de generar un token usando la `url` proporcionada por el login, y que este toquen sea de `write` y no solo escritura para que podamos salvar nuestro modelo."
      ]
    },
    {
      "cell_type": "code",
      "execution_count": 6,
      "metadata": {
        "colab": {
          "base_uri": "https://localhost:8080/"
        },
        "id": "SXE4UFuuCdC1",
        "outputId": "70e0cf3a-b755-4a8f-aabb-5db49b61bba9"
      },
      "outputs": [
        {
          "name": "stdout",
          "output_type": "stream",
          "text": [
            "\n",
            "    _|    _|  _|    _|    _|_|_|    _|_|_|  _|_|_|  _|      _|    _|_|_|      _|_|_|_|    _|_|      _|_|_|  _|_|_|_|\n",
            "    _|    _|  _|    _|  _|        _|          _|    _|_|    _|  _|            _|        _|    _|  _|        _|\n",
            "    _|_|_|_|  _|    _|  _|  _|_|  _|  _|_|    _|    _|  _|  _|  _|  _|_|      _|_|_|    _|_|_|_|  _|        _|_|_|\n",
            "    _|    _|  _|    _|  _|    _|  _|    _|    _|    _|    _|_|  _|    _|      _|        _|    _|  _|        _|\n",
            "    _|    _|    _|_|      _|_|_|    _|_|_|  _|_|_|  _|      _|    _|_|_|      _|        _|    _|    _|_|_|  _|_|_|_|\n",
            "    \n",
            "    A token is already saved on your machine. Run `huggingface-cli whoami` to get more information or `huggingface-cli logout` if you want to log out.\n",
            "    Setting a new token will erase the existing one.\n",
            "    To login, `huggingface_hub` requires a token generated from https://huggingface.co/settings/tokens .\n",
            "Token: \n",
            "Add token as git credential? (Y/n) y\n",
            "Token is valid (permission: write).\n",
            "\u001b[1m\u001b[31mCannot authenticate through git-credential as no helper is defined on your machine.\n",
            "You might have to re-authenticate when pushing to the Hugging Face Hub.\n",
            "Run the following command in your terminal in case you want to set the 'store' credential helper as default.\n",
            "\n",
            "git config --global credential.helper store\n",
            "\n",
            "Read https://git-scm.com/book/en/v2/Git-Tools-Credential-Storage for more details.\u001b[0m\n",
            "Token has not been saved to git credential helper.\n",
            "Your token has been saved to /root/.cache/huggingface/token\n",
            "Login successful\n"
          ]
        }
      ],
      "source": [
        "!huggingface-cli login"
      ]
    },
    {
      "cell_type": "markdown",
      "metadata": {
        "id": "oMliATPwnm7T"
      },
      "source": [
        "# ETL"
      ]
    },
    {
      "cell_type": "code",
      "execution_count": 7,
      "metadata": {
        "id": "rgxg65SkAOX2"
      },
      "outputs": [],
      "source": [
        "# Load SST-2 dataset from the Hugging Face datasets library\n",
        "dataset = load_dataset(\"BrunoGR/Twitter_Sentiment_Analysis_Train_Corpus_in_Spanish\")"
      ]
    },
    {
      "cell_type": "code",
      "execution_count": 8,
      "metadata": {
        "id": "qkSdohEXAYMv"
      },
      "outputs": [],
      "source": [
        "# # Convert the train dataset to pandas DataFrame for EDA\n",
        "# train_df = pd.DataFrame(dataset['train'])\n",
        "# train_df.head()"
      ]
    },
    {
      "cell_type": "code",
      "execution_count": 9,
      "metadata": {
        "colab": {
          "base_uri": "https://localhost:8080/",
          "height": 206
        },
        "id": "Q8Voru5mFx_1",
        "outputId": "a8dd03ce-1aff-458d-e627-f85ade06fb5a"
      },
      "outputs": [
        {
          "data": {
            "text/html": [
              "\n",
              "  <div id=\"df-c6396570-e2c7-4445-99d0-c892b7b56463\" class=\"colab-df-container\">\n",
              "    <div>\n",
              "<style scoped>\n",
              "    .dataframe tbody tr th:only-of-type {\n",
              "        vertical-align: middle;\n",
              "    }\n",
              "\n",
              "    .dataframe tbody tr th {\n",
              "        vertical-align: top;\n",
              "    }\n",
              "\n",
              "    .dataframe thead th {\n",
              "        text-align: right;\n",
              "    }\n",
              "</style>\n",
              "<table border=\"1\" class=\"dataframe\">\n",
              "  <thead>\n",
              "    <tr style=\"text-align: right;\">\n",
              "      <th></th>\n",
              "      <th>etiqueta</th>\n",
              "      <th>texto</th>\n",
              "    </tr>\n",
              "  </thead>\n",
              "  <tbody>\n",
              "    <tr>\n",
              "      <th>0</th>\n",
              "      <td>Sentimiento: Negativo</td>\n",
              "      <td>Consulta: &lt; ADIÓS 36th ST Planta de estampado:...</td>\n",
              "    </tr>\n",
              "    <tr>\n",
              "      <th>1</th>\n",
              "      <td>Sentimiento: Negativo</td>\n",
              "      <td>Consulta: &lt; @USUARIO no, todavía estoy aquí......</td>\n",
              "    </tr>\n",
              "    <tr>\n",
              "      <th>2</th>\n",
              "      <td>Sentimiento: Negativo</td>\n",
              "      <td>Consulta: &lt; dsfgdehrgb esta noche! Aunque quie...</td>\n",
              "    </tr>\n",
              "    <tr>\n",
              "      <th>3</th>\n",
              "      <td>Sentimiento: Positivo</td>\n",
              "      <td>Consulta: &lt; @USER Show salió ayer señor, lo es...</td>\n",
              "    </tr>\n",
              "    <tr>\n",
              "      <th>4</th>\n",
              "      <td>Sentimiento: Positivo</td>\n",
              "      <td>Consulta: &lt; #the hangover... lo vi el lunes po...</td>\n",
              "    </tr>\n",
              "  </tbody>\n",
              "</table>\n",
              "</div>\n",
              "    <div class=\"colab-df-buttons\">\n",
              "\n",
              "  <div class=\"colab-df-container\">\n",
              "    <button class=\"colab-df-convert\" onclick=\"convertToInteractive('df-c6396570-e2c7-4445-99d0-c892b7b56463')\"\n",
              "            title=\"Convert this dataframe to an interactive table.\"\n",
              "            style=\"display:none;\">\n",
              "\n",
              "  <svg xmlns=\"http://www.w3.org/2000/svg\" height=\"24px\" viewBox=\"0 -960 960 960\">\n",
              "    <path d=\"M120-120v-720h720v720H120Zm60-500h600v-160H180v160Zm220 220h160v-160H400v160Zm0 220h160v-160H400v160ZM180-400h160v-160H180v160Zm440 0h160v-160H620v160ZM180-180h160v-160H180v160Zm440 0h160v-160H620v160Z\"/>\n",
              "  </svg>\n",
              "    </button>\n",
              "\n",
              "  <style>\n",
              "    .colab-df-container {\n",
              "      display:flex;\n",
              "      gap: 12px;\n",
              "    }\n",
              "\n",
              "    .colab-df-convert {\n",
              "      background-color: #E8F0FE;\n",
              "      border: none;\n",
              "      border-radius: 50%;\n",
              "      cursor: pointer;\n",
              "      display: none;\n",
              "      fill: #1967D2;\n",
              "      height: 32px;\n",
              "      padding: 0 0 0 0;\n",
              "      width: 32px;\n",
              "    }\n",
              "\n",
              "    .colab-df-convert:hover {\n",
              "      background-color: #E2EBFA;\n",
              "      box-shadow: 0px 1px 2px rgba(60, 64, 67, 0.3), 0px 1px 3px 1px rgba(60, 64, 67, 0.15);\n",
              "      fill: #174EA6;\n",
              "    }\n",
              "\n",
              "    .colab-df-buttons div {\n",
              "      margin-bottom: 4px;\n",
              "    }\n",
              "\n",
              "    [theme=dark] .colab-df-convert {\n",
              "      background-color: #3B4455;\n",
              "      fill: #D2E3FC;\n",
              "    }\n",
              "\n",
              "    [theme=dark] .colab-df-convert:hover {\n",
              "      background-color: #434B5C;\n",
              "      box-shadow: 0px 1px 3px 1px rgba(0, 0, 0, 0.15);\n",
              "      filter: drop-shadow(0px 1px 2px rgba(0, 0, 0, 0.3));\n",
              "      fill: #FFFFFF;\n",
              "    }\n",
              "  </style>\n",
              "\n",
              "    <script>\n",
              "      const buttonEl =\n",
              "        document.querySelector('#df-c6396570-e2c7-4445-99d0-c892b7b56463 button.colab-df-convert');\n",
              "      buttonEl.style.display =\n",
              "        google.colab.kernel.accessAllowed ? 'block' : 'none';\n",
              "\n",
              "      async function convertToInteractive(key) {\n",
              "        const element = document.querySelector('#df-c6396570-e2c7-4445-99d0-c892b7b56463');\n",
              "        const dataTable =\n",
              "          await google.colab.kernel.invokeFunction('convertToInteractive',\n",
              "                                                    [key], {});\n",
              "        if (!dataTable) return;\n",
              "\n",
              "        const docLinkHtml = 'Like what you see? Visit the ' +\n",
              "          '<a target=\"_blank\" href=https://colab.research.google.com/notebooks/data_table.ipynb>data table notebook</a>'\n",
              "          + ' to learn more about interactive tables.';\n",
              "        element.innerHTML = '';\n",
              "        dataTable['output_type'] = 'display_data';\n",
              "        await google.colab.output.renderOutput(dataTable, element);\n",
              "        const docLink = document.createElement('div');\n",
              "        docLink.innerHTML = docLinkHtml;\n",
              "        element.appendChild(docLink);\n",
              "      }\n",
              "    </script>\n",
              "  </div>\n",
              "\n",
              "\n",
              "<div id=\"df-e2e168df-315b-40d4-81b8-9b1767c022ee\">\n",
              "  <button class=\"colab-df-quickchart\" onclick=\"quickchart('df-e2e168df-315b-40d4-81b8-9b1767c022ee')\"\n",
              "            title=\"Suggest charts.\"\n",
              "            style=\"display:none;\">\n",
              "\n",
              "<svg xmlns=\"http://www.w3.org/2000/svg\" height=\"24px\"viewBox=\"0 0 24 24\"\n",
              "     width=\"24px\">\n",
              "    <g>\n",
              "        <path d=\"M19 3H5c-1.1 0-2 .9-2 2v14c0 1.1.9 2 2 2h14c1.1 0 2-.9 2-2V5c0-1.1-.9-2-2-2zM9 17H7v-7h2v7zm4 0h-2V7h2v10zm4 0h-2v-4h2v4z\"/>\n",
              "    </g>\n",
              "</svg>\n",
              "  </button>\n",
              "\n",
              "<style>\n",
              "  .colab-df-quickchart {\n",
              "      --bg-color: #E8F0FE;\n",
              "      --fill-color: #1967D2;\n",
              "      --hover-bg-color: #E2EBFA;\n",
              "      --hover-fill-color: #174EA6;\n",
              "      --disabled-fill-color: #AAA;\n",
              "      --disabled-bg-color: #DDD;\n",
              "  }\n",
              "\n",
              "  [theme=dark] .colab-df-quickchart {\n",
              "      --bg-color: #3B4455;\n",
              "      --fill-color: #D2E3FC;\n",
              "      --hover-bg-color: #434B5C;\n",
              "      --hover-fill-color: #FFFFFF;\n",
              "      --disabled-bg-color: #3B4455;\n",
              "      --disabled-fill-color: #666;\n",
              "  }\n",
              "\n",
              "  .colab-df-quickchart {\n",
              "    background-color: var(--bg-color);\n",
              "    border: none;\n",
              "    border-radius: 50%;\n",
              "    cursor: pointer;\n",
              "    display: none;\n",
              "    fill: var(--fill-color);\n",
              "    height: 32px;\n",
              "    padding: 0;\n",
              "    width: 32px;\n",
              "  }\n",
              "\n",
              "  .colab-df-quickchart:hover {\n",
              "    background-color: var(--hover-bg-color);\n",
              "    box-shadow: 0 1px 2px rgba(60, 64, 67, 0.3), 0 1px 3px 1px rgba(60, 64, 67, 0.15);\n",
              "    fill: var(--button-hover-fill-color);\n",
              "  }\n",
              "\n",
              "  .colab-df-quickchart-complete:disabled,\n",
              "  .colab-df-quickchart-complete:disabled:hover {\n",
              "    background-color: var(--disabled-bg-color);\n",
              "    fill: var(--disabled-fill-color);\n",
              "    box-shadow: none;\n",
              "  }\n",
              "\n",
              "  .colab-df-spinner {\n",
              "    border: 2px solid var(--fill-color);\n",
              "    border-color: transparent;\n",
              "    border-bottom-color: var(--fill-color);\n",
              "    animation:\n",
              "      spin 1s steps(1) infinite;\n",
              "  }\n",
              "\n",
              "  @keyframes spin {\n",
              "    0% {\n",
              "      border-color: transparent;\n",
              "      border-bottom-color: var(--fill-color);\n",
              "      border-left-color: var(--fill-color);\n",
              "    }\n",
              "    20% {\n",
              "      border-color: transparent;\n",
              "      border-left-color: var(--fill-color);\n",
              "      border-top-color: var(--fill-color);\n",
              "    }\n",
              "    30% {\n",
              "      border-color: transparent;\n",
              "      border-left-color: var(--fill-color);\n",
              "      border-top-color: var(--fill-color);\n",
              "      border-right-color: var(--fill-color);\n",
              "    }\n",
              "    40% {\n",
              "      border-color: transparent;\n",
              "      border-right-color: var(--fill-color);\n",
              "      border-top-color: var(--fill-color);\n",
              "    }\n",
              "    60% {\n",
              "      border-color: transparent;\n",
              "      border-right-color: var(--fill-color);\n",
              "    }\n",
              "    80% {\n",
              "      border-color: transparent;\n",
              "      border-right-color: var(--fill-color);\n",
              "      border-bottom-color: var(--fill-color);\n",
              "    }\n",
              "    90% {\n",
              "      border-color: transparent;\n",
              "      border-bottom-color: var(--fill-color);\n",
              "    }\n",
              "  }\n",
              "</style>\n",
              "\n",
              "  <script>\n",
              "    async function quickchart(key) {\n",
              "      const quickchartButtonEl =\n",
              "        document.querySelector('#' + key + ' button');\n",
              "      quickchartButtonEl.disabled = true;  // To prevent multiple clicks.\n",
              "      quickchartButtonEl.classList.add('colab-df-spinner');\n",
              "      try {\n",
              "        const charts = await google.colab.kernel.invokeFunction(\n",
              "            'suggestCharts', [key], {});\n",
              "      } catch (error) {\n",
              "        console.error('Error during call to suggestCharts:', error);\n",
              "      }\n",
              "      quickchartButtonEl.classList.remove('colab-df-spinner');\n",
              "      quickchartButtonEl.classList.add('colab-df-quickchart-complete');\n",
              "    }\n",
              "    (() => {\n",
              "      let quickchartButtonEl =\n",
              "        document.querySelector('#df-e2e168df-315b-40d4-81b8-9b1767c022ee button');\n",
              "      quickchartButtonEl.style.display =\n",
              "        google.colab.kernel.accessAllowed ? 'block' : 'none';\n",
              "    })();\n",
              "  </script>\n",
              "</div>\n",
              "    </div>\n",
              "  </div>\n"
            ],
            "text/plain": [
              "                etiqueta                                              texto\n",
              "0  Sentimiento: Negativo  Consulta: < ADIÓS 36th ST Planta de estampado:...\n",
              "1  Sentimiento: Negativo  Consulta: < @USUARIO no, todavía estoy aquí......\n",
              "2  Sentimiento: Negativo  Consulta: < dsfgdehrgb esta noche! Aunque quie...\n",
              "3  Sentimiento: Positivo  Consulta: < @USER Show salió ayer señor, lo es...\n",
              "4  Sentimiento: Positivo  Consulta: < #the hangover... lo vi el lunes po..."
            ]
          },
          "execution_count": 9,
          "metadata": {},
          "output_type": "execute_result"
        }
      ],
      "source": [
        "# Convert the test dataset to pandas DataFrame for EDA\n",
        "test_df = pd.DataFrame(dataset['test'])\n",
        "test_df.head()"
      ]
    },
    {
      "cell_type": "markdown",
      "metadata": {
        "id": "XsccAnW-oZwb"
      },
      "source": [
        "Podemos observar que los tweets tienen prefijos que pueden alterar la generacion de tweets, asi que hay que modificarlos"
      ]
    },
    {
      "cell_type": "code",
      "execution_count": 11,
      "metadata": {
        "colab": {
          "base_uri": "https://localhost:8080/",
          "height": 35
        },
        "id": "usVy-beGFEgf",
        "outputId": "61e5ddb4-140f-4598-d1b3-5fe920985b82"
      },
      "outputs": [
        {
          "data": {
            "application/vnd.google.colaboratory.intrinsic+json": {
              "type": "string"
            },
            "text/plain": [
              "'Consulta: < @USUARIO ¡Ajá! así es>\\n'"
            ]
          },
          "execution_count": 11,
          "metadata": {},
          "output_type": "execute_result"
        }
      ],
      "source": [
        "test_df['texto'].values[6]"
      ]
    },
    {
      "cell_type": "markdown",
      "metadata": {
        "id": "l1mu1un1ore9"
      },
      "source": [
        "Podemos limpiarlos usando regular expressions!"
      ]
    },
    {
      "cell_type": "code",
      "execution_count": 12,
      "metadata": {
        "colab": {
          "base_uri": "https://localhost:8080/"
        },
        "id": "pA7q6uLcFcWT",
        "outputId": "c6ae3e5f-fbdd-436a-f452-898df08930c5"
      },
      "outputs": [
        {
          "name": "stdout",
          "output_type": "stream",
          "text": [
            "['@USUARIO ¡Ajá! así es']\n"
          ]
        }
      ],
      "source": [
        "import re\n",
        "# Sample text\n",
        "text = \"Consulta: < @USUARIO ¡Ajá! así es>\\n\"\n",
        "# Regex pattern to match text within angle brackets\n",
        "pattern = r\"<(.*?)>\"\n",
        "# Find matches in the sample text\n",
        "matches = re.findall(pattern, text)\n",
        "# Extract the sentences without the angle brackets and 'Consulta: ' part\n",
        "cleaned_sentences = [match.strip() for match in matches]\n",
        "print(cleaned_sentences)\n"
      ]
    },
    {
      "cell_type": "code",
      "execution_count": 13,
      "metadata": {
        "colab": {
          "base_uri": "https://localhost:8080/"
        },
        "id": "jZ8GrZjjHXLK",
        "outputId": "f942f318-3635-4278-fa59-34296178be39"
      },
      "outputs": [
        {
          "name": "stdout",
          "output_type": "stream",
          "text": [
            "0         ADIÓS 36th ST Planta de estampado: USTEDES SON...\n",
            "1         @USUARIO no, todavía estoy aquí... la última n...\n",
            "2          dsfgdehrgb esta noche! Aunque quiero a Amy allí.\n",
            "3         @USER Show salió ayer señor, lo estamos hacien...\n",
            "4         #the hangover... lo vi el lunes por la noche. ...\n",
            "                                ...                        \n",
            "334636    Tan jodidamente enfermo. no puedo volver a dormir\n",
            "334637                         @USUARIO estoy leyendo un ff\n",
            "334638    @USUARIO DESEOHHHH!! lástima que tengo escuela...\n",
            "334639    Estoy emocionado como un niño pequeño... ¡Se e...\n",
            "334640    Booo hoooooo Waaaaaaaaaaaaaaaa MIS AURICULARES...\n",
            "Name: texto, Length: 334641, dtype: object\n"
          ]
        }
      ],
      "source": [
        "pattern = r\"<(.*?)>\"\n",
        "# Apply the regex pattern to the column and create a new column with the extracted text\n",
        "test_df['texto'] = test_df['texto'].str.extract(pattern, expand=False).str.strip()\n",
        "print(test_df['texto'])"
      ]
    },
    {
      "cell_type": "markdown",
      "metadata": {
        "id": "W0tAgzleou8D"
      },
      "source": [
        "# Importar Modelo y Tokenizer"
      ]
    },
    {
      "cell_type": "code",
      "execution_count": 30,
      "metadata": {
        "id": "cN3k_WgTHlaO"
      },
      "outputs": [],
      "source": [
        "tokenizer = GPT2Tokenizer.from_pretrained('gpt2', padding=\"max_length\",\n",
        "                                 truncation=True, max_length=280)\n",
        "tokenizer.pad_token = tokenizer.eos_token\n",
        "tokenizer.padding_side = 'left'  # Explicitly set padding to the left\n",
        "\n",
        "model = GPT2LMHeadModel.from_pretrained('gpt2').to(device)\n",
        "#model = AutoModelForCausalLM.from_pretrained(\"uumami/twitter_automl_023\")"
      ]
    },
    {
      "cell_type": "markdown",
      "metadata": {
        "id": "aCJctx7yrMgn"
      },
      "source": [
        "Veamos como se comporta el modelo antes de entrenar"
      ]
    },
    {
      "cell_type": "code",
      "execution_count": null,
      "metadata": {
        "id": "LgU6qlqRrL2U"
      },
      "outputs": [],
      "source": [
        "# Encode some text to get the input ids\n",
        "prompt_text = \"Me, molesta\"\n",
        "input_ids = tokenizer.encode(prompt_text, return_tensors='pt')\n",
        "\n",
        "# Generate text sequences\n",
        "outputs = model.generate(\n",
        "    input_ids,\n",
        "    max_length=100,\n",
        "    num_return_sequences=1,\n",
        "    no_repeat_ngram_size=2,\n",
        "    early_stopping=True\n",
        ")\n",
        "\n",
        "# Decode the generated sequences to text\n",
        "generated_text = tokenizer.decode(outputs[0], skip_special_tokens=True)\n",
        "\n",
        "print(generated_text)"
      ]
    },
    {
      "cell_type": "code",
      "execution_count": 60,
      "metadata": {
        "colab": {
          "base_uri": "https://localhost:8080/",
          "height": 49,
          "referenced_widgets": [
            "a124ec865d734cf4bb7c20f4ba7214bd",
            "a6cf5d90b0d04eb08a1549e262e0b76f",
            "ce8e59536083430b811a8b254e0f44d3",
            "3ef44110fe2142e79e770ae6a7f4f0ff",
            "3e8b9d6c922242cd9a9e4815ea883c9f",
            "915b00551bcf492fa0ddd53f63157ea6",
            "e52acc7a328549b1a337fe5b63e0984f",
            "7a8295e117e840f1bce62ac3490f0b07",
            "19753740669b4207b36081a66149e8fe",
            "e782e9fe4cd24e87a5afb2cd45924a08",
            "9740e5c2500942eea79c0f71d4d07a08"
          ]
        },
        "id": "7bP4igEFInMh",
        "outputId": "f7a5f510-c3ea-4c6b-914e-f5b8408e2651"
      },
      "outputs": [
        {
          "data": {
            "application/vnd.jupyter.widget-view+json": {
              "model_id": "a124ec865d734cf4bb7c20f4ba7214bd",
              "version_major": 2,
              "version_minor": 0
            },
            "text/plain": [
              "Map:   0%|          | 0/5000 [00:00<?, ? examples/s]"
            ]
          },
          "metadata": {},
          "output_type": "display_data"
        }
      ],
      "source": [
        "from datasets import Dataset\n",
        "def tokenize_and_prepare_labels(examples):\n",
        "    # Tokenize the inputs and labels\n",
        "    tokenized_inputs = tokenizer(examples[\"texto\"], padding=\"max_length\",\n",
        "                                 truncation=True, max_length=280)\n",
        "\n",
        "    # Our inputs are the tokenized inputs\n",
        "    inputs = tokenized_inputs.input_ids\n",
        "\n",
        "    # The labels are the input IDs shifted to the left (to predict the next token)\n",
        "    labels = tokenized_inputs.input_ids.copy()\n",
        "\n",
        "    # We need to replace the padding token id's of the labels by -100 so that\n",
        "    # they are not taken into account by the Cross Entropy Loss\n",
        "    labels = [[(label if label != tokenizer.pad_token_id else -100)\n",
        "     for label in labels_example] for labels_example in labels]\n",
        "\n",
        "    # Return the prepared dictionary\n",
        "    # Including the labels and input_ids for the model to work\n",
        "    return {'input_ids': inputs, 'labels': labels}\n",
        "\n",
        "# Map the dataset to the function\n",
        "tokenized_datasets =  Dataset.from_pandas(test_df.loc[range(15000,20000)]).map(\n",
        "    tokenize_and_prepare_labels, batched=True)\n"
      ]
    },
    {
      "cell_type": "code",
      "execution_count": 61,
      "metadata": {
        "colab": {
          "base_uri": "https://localhost:8080/"
        },
        "id": "eB5yhdB-lQY8",
        "outputId": "02f0d0c4-d909-4673-8504-6eb4666453b1"
      },
      "outputs": [
        {
          "data": {
            "text/plain": [
              "5000"
            ]
          },
          "execution_count": 61,
          "metadata": {},
          "output_type": "execute_result"
        }
      ],
      "source": [
        "len(tokenized_datasets['input_ids'])"
      ]
    },
    {
      "cell_type": "code",
      "execution_count": 62,
      "metadata": {
        "colab": {
          "base_uri": "https://localhost:8080/"
        },
        "id": "8_0sI9q0lsoh",
        "outputId": "cd14f3ec-8dca-4dd0-bcce-60bb458592ca"
      },
      "outputs": [
        {
          "data": {
            "text/plain": [
              "280"
            ]
          },
          "execution_count": 62,
          "metadata": {},
          "output_type": "execute_result"
        }
      ],
      "source": [
        "len(tokenized_datasets['input_ids'][1])"
      ]
    },
    {
      "cell_type": "code",
      "execution_count": 63,
      "metadata": {
        "colab": {
          "base_uri": "https://localhost:8080/"
        },
        "id": "kDnTPvZvmNnH",
        "outputId": "cdd53287-9541-4b0b-f2d1-7a600204943e"
      },
      "outputs": [
        {
          "data": {
            "text/plain": [
              "[-100,\n",
              " -100,\n",
              " -100,\n",
              " -100,\n",
              " -100,\n",
              " -100,\n",
              " -100,\n",
              " -100,\n",
              " -100,\n",
              " -100,\n",
              " -100,\n",
              " -100,\n",
              " -100,\n",
              " -100,\n",
              " -100,\n",
              " -100,\n",
              " -100,\n",
              " -100,\n",
              " -100,\n",
              " -100,\n",
              " -100,\n",
              " -100,\n",
              " -100,\n",
              " -100,\n",
              " -100,\n",
              " -100,\n",
              " -100,\n",
              " -100,\n",
              " -100,\n",
              " -100,\n",
              " -100,\n",
              " -100,\n",
              " -100,\n",
              " -100,\n",
              " -100,\n",
              " -100,\n",
              " -100,\n",
              " -100,\n",
              " -100,\n",
              " -100,\n",
              " -100,\n",
              " -100,\n",
              " -100,\n",
              " -100,\n",
              " -100,\n",
              " -100,\n",
              " -100,\n",
              " -100,\n",
              " -100,\n",
              " -100,\n",
              " -100,\n",
              " -100,\n",
              " -100,\n",
              " -100,\n",
              " -100,\n",
              " -100,\n",
              " -100,\n",
              " -100,\n",
              " -100,\n",
              " -100,\n",
              " -100,\n",
              " -100,\n",
              " -100,\n",
              " -100,\n",
              " -100,\n",
              " -100,\n",
              " -100,\n",
              " -100,\n",
              " -100,\n",
              " -100,\n",
              " -100,\n",
              " -100,\n",
              " -100,\n",
              " -100,\n",
              " -100,\n",
              " -100,\n",
              " -100,\n",
              " -100,\n",
              " -100,\n",
              " -100,\n",
              " -100,\n",
              " -100,\n",
              " -100,\n",
              " -100,\n",
              " -100,\n",
              " -100,\n",
              " -100,\n",
              " -100,\n",
              " -100,\n",
              " -100,\n",
              " -100,\n",
              " -100,\n",
              " -100,\n",
              " -100,\n",
              " -100,\n",
              " -100,\n",
              " -100,\n",
              " -100,\n",
              " -100,\n",
              " -100,\n",
              " -100,\n",
              " -100,\n",
              " -100,\n",
              " -100,\n",
              " -100,\n",
              " -100,\n",
              " -100,\n",
              " -100,\n",
              " -100,\n",
              " -100,\n",
              " -100,\n",
              " -100,\n",
              " -100,\n",
              " -100,\n",
              " -100,\n",
              " -100,\n",
              " -100,\n",
              " -100,\n",
              " -100,\n",
              " -100,\n",
              " -100,\n",
              " -100,\n",
              " -100,\n",
              " -100,\n",
              " -100,\n",
              " -100,\n",
              " -100,\n",
              " -100,\n",
              " -100,\n",
              " -100,\n",
              " -100,\n",
              " -100,\n",
              " -100,\n",
              " -100,\n",
              " -100,\n",
              " -100,\n",
              " -100,\n",
              " -100,\n",
              " -100,\n",
              " -100,\n",
              " -100,\n",
              " -100,\n",
              " -100,\n",
              " -100,\n",
              " -100,\n",
              " -100,\n",
              " -100,\n",
              " -100,\n",
              " -100,\n",
              " -100,\n",
              " -100,\n",
              " -100,\n",
              " -100,\n",
              " -100,\n",
              " -100,\n",
              " -100,\n",
              " -100,\n",
              " -100,\n",
              " -100,\n",
              " -100,\n",
              " -100,\n",
              " -100,\n",
              " -100,\n",
              " -100,\n",
              " -100,\n",
              " -100,\n",
              " -100,\n",
              " -100,\n",
              " -100,\n",
              " -100,\n",
              " -100,\n",
              " -100,\n",
              " -100,\n",
              " -100,\n",
              " -100,\n",
              " -100,\n",
              " -100,\n",
              " -100,\n",
              " -100,\n",
              " -100,\n",
              " -100,\n",
              " -100,\n",
              " -100,\n",
              " -100,\n",
              " -100,\n",
              " -100,\n",
              " -100,\n",
              " -100,\n",
              " -100,\n",
              " -100,\n",
              " -100,\n",
              " -100,\n",
              " -100,\n",
              " -100,\n",
              " -100,\n",
              " -100,\n",
              " -100,\n",
              " -100,\n",
              " -100,\n",
              " -100,\n",
              " -100,\n",
              " -100,\n",
              " -100,\n",
              " -100,\n",
              " -100,\n",
              " -100,\n",
              " -100,\n",
              " -100,\n",
              " -100,\n",
              " -100,\n",
              " -100,\n",
              " -100,\n",
              " -100,\n",
              " -100,\n",
              " -100,\n",
              " -100,\n",
              " -100,\n",
              " -100,\n",
              " -100,\n",
              " -100,\n",
              " -100,\n",
              " -100,\n",
              " -100,\n",
              " -100,\n",
              " -100,\n",
              " -100,\n",
              " -100,\n",
              " -100,\n",
              " -100,\n",
              " -100,\n",
              " -100,\n",
              " -100,\n",
              " -100,\n",
              " -100,\n",
              " -100,\n",
              " -100,\n",
              " -100,\n",
              " -100,\n",
              " -100,\n",
              " -100,\n",
              " -100,\n",
              " -100,\n",
              " -100,\n",
              " -100,\n",
              " -100,\n",
              " -100,\n",
              " -100,\n",
              " -100,\n",
              " -100,\n",
              " -100,\n",
              " -100,\n",
              " -100,\n",
              " -100,\n",
              " 31,\n",
              " 2937,\n",
              " 52,\n",
              " 1503,\n",
              " 9399,\n",
              " 24685,\n",
              " 7354,\n",
              " 3228,\n",
              " 2730,\n",
              " 270,\n",
              " 452,\n",
              " 3263,\n",
              " 68,\n",
              " 573,\n",
              " 257,\n",
              " 984,\n",
              " 533,\n",
              " 16785,\n",
              " 1587,\n",
              " 94,\n",
              " 2164,\n",
              " 330,\n",
              " 4448,\n",
              " 16964,\n",
              " 5720,\n",
              " 283,\n",
              " 0]"
            ]
          },
          "execution_count": 63,
          "metadata": {},
          "output_type": "execute_result"
        }
      ],
      "source": [
        "tokenized_datasets['labels'][1]"
      ]
    },
    {
      "cell_type": "code",
      "execution_count": 64,
      "metadata": {
        "colab": {
          "base_uri": "https://localhost:8080/"
        },
        "id": "w35jd3EzlvNb",
        "outputId": "f148575c-47ff-429a-d3ee-d1490a1725fb"
      },
      "outputs": [
        {
          "data": {
            "text/plain": [
              "[50256,\n",
              " 50256,\n",
              " 50256,\n",
              " 50256,\n",
              " 50256,\n",
              " 50256,\n",
              " 50256,\n",
              " 50256,\n",
              " 50256,\n",
              " 50256,\n",
              " 50256,\n",
              " 50256,\n",
              " 50256,\n",
              " 50256,\n",
              " 50256,\n",
              " 50256,\n",
              " 50256,\n",
              " 50256,\n",
              " 50256,\n",
              " 50256,\n",
              " 50256,\n",
              " 50256,\n",
              " 50256,\n",
              " 50256,\n",
              " 50256,\n",
              " 50256,\n",
              " 50256,\n",
              " 50256,\n",
              " 50256,\n",
              " 50256,\n",
              " 50256,\n",
              " 50256,\n",
              " 50256,\n",
              " 50256,\n",
              " 50256,\n",
              " 50256,\n",
              " 50256,\n",
              " 50256,\n",
              " 50256,\n",
              " 50256,\n",
              " 50256,\n",
              " 50256,\n",
              " 50256,\n",
              " 50256,\n",
              " 50256,\n",
              " 50256,\n",
              " 50256,\n",
              " 50256,\n",
              " 50256,\n",
              " 50256,\n",
              " 50256,\n",
              " 50256,\n",
              " 50256,\n",
              " 50256,\n",
              " 50256,\n",
              " 50256,\n",
              " 50256,\n",
              " 50256,\n",
              " 50256,\n",
              " 50256,\n",
              " 50256,\n",
              " 50256,\n",
              " 50256,\n",
              " 50256,\n",
              " 50256,\n",
              " 50256,\n",
              " 50256,\n",
              " 50256,\n",
              " 50256,\n",
              " 50256,\n",
              " 50256,\n",
              " 50256,\n",
              " 50256,\n",
              " 50256,\n",
              " 50256,\n",
              " 50256,\n",
              " 50256,\n",
              " 50256,\n",
              " 50256,\n",
              " 50256,\n",
              " 50256,\n",
              " 50256,\n",
              " 50256,\n",
              " 50256,\n",
              " 50256,\n",
              " 50256,\n",
              " 50256,\n",
              " 50256,\n",
              " 50256,\n",
              " 50256,\n",
              " 50256,\n",
              " 50256,\n",
              " 50256,\n",
              " 50256,\n",
              " 50256,\n",
              " 50256,\n",
              " 50256,\n",
              " 50256,\n",
              " 50256,\n",
              " 50256,\n",
              " 50256,\n",
              " 50256,\n",
              " 50256,\n",
              " 50256,\n",
              " 50256,\n",
              " 50256,\n",
              " 50256,\n",
              " 50256,\n",
              " 50256,\n",
              " 50256,\n",
              " 50256,\n",
              " 50256,\n",
              " 50256,\n",
              " 50256,\n",
              " 50256,\n",
              " 50256,\n",
              " 50256,\n",
              " 50256,\n",
              " 50256,\n",
              " 50256,\n",
              " 50256,\n",
              " 50256,\n",
              " 50256,\n",
              " 50256,\n",
              " 50256,\n",
              " 50256,\n",
              " 50256,\n",
              " 50256,\n",
              " 50256,\n",
              " 50256,\n",
              " 50256,\n",
              " 50256,\n",
              " 50256,\n",
              " 50256,\n",
              " 50256,\n",
              " 50256,\n",
              " 50256,\n",
              " 50256,\n",
              " 50256,\n",
              " 50256,\n",
              " 50256,\n",
              " 50256,\n",
              " 50256,\n",
              " 50256,\n",
              " 50256,\n",
              " 50256,\n",
              " 50256,\n",
              " 50256,\n",
              " 50256,\n",
              " 50256,\n",
              " 50256,\n",
              " 50256,\n",
              " 50256,\n",
              " 50256,\n",
              " 50256,\n",
              " 50256,\n",
              " 50256,\n",
              " 50256,\n",
              " 50256,\n",
              " 50256,\n",
              " 50256,\n",
              " 50256,\n",
              " 50256,\n",
              " 50256,\n",
              " 50256,\n",
              " 50256,\n",
              " 50256,\n",
              " 50256,\n",
              " 50256,\n",
              " 50256,\n",
              " 50256,\n",
              " 50256,\n",
              " 50256,\n",
              " 50256,\n",
              " 50256,\n",
              " 50256,\n",
              " 50256,\n",
              " 50256,\n",
              " 50256,\n",
              " 50256,\n",
              " 50256,\n",
              " 50256,\n",
              " 50256,\n",
              " 50256,\n",
              " 50256,\n",
              " 50256,\n",
              " 50256,\n",
              " 50256,\n",
              " 50256,\n",
              " 50256,\n",
              " 50256,\n",
              " 50256,\n",
              " 50256,\n",
              " 50256,\n",
              " 50256,\n",
              " 50256,\n",
              " 50256,\n",
              " 50256,\n",
              " 50256,\n",
              " 50256,\n",
              " 50256,\n",
              " 50256,\n",
              " 50256,\n",
              " 50256,\n",
              " 50256,\n",
              " 50256,\n",
              " 50256,\n",
              " 50256,\n",
              " 50256,\n",
              " 50256,\n",
              " 50256,\n",
              " 50256,\n",
              " 50256,\n",
              " 50256,\n",
              " 50256,\n",
              " 50256,\n",
              " 50256,\n",
              " 50256,\n",
              " 50256,\n",
              " 50256,\n",
              " 50256,\n",
              " 50256,\n",
              " 50256,\n",
              " 50256,\n",
              " 50256,\n",
              " 50256,\n",
              " 50256,\n",
              " 50256,\n",
              " 50256,\n",
              " 50256,\n",
              " 50256,\n",
              " 50256,\n",
              " 50256,\n",
              " 50256,\n",
              " 50256,\n",
              " 50256,\n",
              " 50256,\n",
              " 50256,\n",
              " 50256,\n",
              " 50256,\n",
              " 50256,\n",
              " 50256,\n",
              " 50256,\n",
              " 50256,\n",
              " 50256,\n",
              " 50256,\n",
              " 50256,\n",
              " 50256,\n",
              " 50256,\n",
              " 50256,\n",
              " 50256,\n",
              " 50256,\n",
              " 50256,\n",
              " 31,\n",
              " 2937,\n",
              " 52,\n",
              " 1503,\n",
              " 9399,\n",
              " 24685,\n",
              " 7354,\n",
              " 3228,\n",
              " 2730,\n",
              " 270,\n",
              " 452,\n",
              " 3263,\n",
              " 68,\n",
              " 573,\n",
              " 257,\n",
              " 984,\n",
              " 533,\n",
              " 16785,\n",
              " 1587,\n",
              " 94,\n",
              " 2164,\n",
              " 330,\n",
              " 4448,\n",
              " 16964,\n",
              " 5720,\n",
              " 283,\n",
              " 0]"
            ]
          },
          "execution_count": 64,
          "metadata": {},
          "output_type": "execute_result"
        }
      ],
      "source": [
        "tokenized_datasets['input_ids'][1]"
      ]
    },
    {
      "cell_type": "markdown",
      "metadata": {
        "id": "laD6rjgloyO4"
      },
      "source": [
        "# Entrenamiento"
      ]
    },
    {
      "cell_type": "code",
      "execution_count": 65,
      "metadata": {
        "colab": {
          "base_uri": "https://localhost:8080/",
          "height": 110
        },
        "id": "g6wTxl7RjoXD",
        "outputId": "89819521-918c-431d-b9db-0d8073469b04"
      },
      "outputs": [
        {
          "data": {
            "text/html": [
              "\n",
              "    <div>\n",
              "      \n",
              "      <progress value='417' max='417' style='width:300px; height:20px; vertical-align: middle;'></progress>\n",
              "      [417/417 06:38, Epoch 1/1]\n",
              "    </div>\n",
              "    <table border=\"1\" class=\"dataframe\">\n",
              "  <thead>\n",
              " <tr style=\"text-align: left;\">\n",
              "      <th>Step</th>\n",
              "      <th>Training Loss</th>\n",
              "    </tr>\n",
              "  </thead>\n",
              "  <tbody>\n",
              "  </tbody>\n",
              "</table><p>"
            ],
            "text/plain": [
              "<IPython.core.display.HTML object>"
            ]
          },
          "metadata": {},
          "output_type": "display_data"
        },
        {
          "data": {
            "text/plain": [
              "TrainOutput(global_step=417, training_loss=4.2094035708932855, metrics={'train_runtime': 399.4045, 'train_samples_per_second': 12.519, 'train_steps_per_second': 1.044, 'total_flos': 714470400000000.0, 'train_loss': 4.2094035708932855, 'epoch': 1.0})"
            ]
          },
          "execution_count": 65,
          "metadata": {},
          "output_type": "execute_result"
        }
      ],
      "source": [
        "# Define your training arguments\n",
        "training_args = TrainingArguments(\n",
        "    output_dir=\"./results\",\n",
        "    num_train_epochs=1,\n",
        "    per_device_train_batch_size=12,\n",
        "    warmup_steps=500,\n",
        "    weight_decay=0.01,\n",
        "    logging_dir='./logs',\n",
        ")\n",
        "\n",
        "# Initialize the Trainer\n",
        "trainer = Trainer(\n",
        "    model=model.to(device),\n",
        "    args=training_args,\n",
        "    train_dataset=tokenized_datasets,\n",
        ")\n",
        "\n",
        "# Train the model\n",
        "trainer.train()"
      ]
    },
    {
      "cell_type": "code",
      "execution_count": 83,
      "metadata": {
        "colab": {
          "base_uri": "https://localhost:8080/"
        },
        "id": "-VbDLktsnxs8",
        "outputId": "72c0162a-50a1-4500-b569-45c5099d12f1"
      },
      "outputs": [
        {
          "name": "stdout",
          "output_type": "stream",
          "text": [
            "Me molesta!!!!!!!!!!!!!!!!!!!!!!!!!!!!!!!!!!!!!!!!!!!!!!!!!!!!!!!!!!!!!!!!!!!!!!!!!!!!!!!!!!!!!!!!!!!!!!!!!!!!!!!!!!!!!!!!!!!!!!!!!!!!!!!!!!!!!!!!!!!!!!!!!!!!!!!!!!!!!!!!!!!!!!!!!!!!!!!!!!!!!!!!!!!!!!!!!!!!!!!!!!!!!!!!!!!!!!!!!!!!!!!!!!!!!!!!!!!!!!!!!!!!!!!!!!!!!!!!!!!!!!!!!!!!!!!!!!!!!!!!!!!!!!!!!!!!!!!!!!!!!!!!!!!!!!!!!!!!!!!!!!!!!!!!!!!!!!!!!!!!!!!!!!!!!!!!!!!!!!!!!!!!!!!!!!!!!!!!!!!!!!!!!!!!!!!!!!!!!!!!!!!!!!!!!!!!!! \n"
          ]
        }
      ],
      "source": [
        "# Encoding the input text\n",
        "input_text = \"Me molesta \"\n",
        "\n",
        "# encoding =  tokenizer.encode_plus(input_text, return_tensors='pt')\n",
        "# input_ids = encoding['input_ids'].to(device)\n",
        "# attention_mask = encoding['attention_mask'].to(device)\n",
        "\n",
        "input_ids = tokenizer.encode(input_text, return_tensors='pt',\n",
        "                             truncation=True)\n",
        "\n",
        "# Generate a sequence of text\n",
        "output_sequences = model.generate(\n",
        "    input_ids=input_ids.to(device),\n",
        "    #attention_mask=attention_mask,\n",
        "    max_length=280,  # You can change the length as needed\n",
        "    temperature=1.0,  # Controls the randomness of the generation\n",
        "    num_return_sequences=1,\n",
        "    pad_token_id=tokenizer.eos_token_id  # Set the pad token id to the eos_token_id\n",
        ")\n",
        "\n",
        "# Decode the output\n",
        "generated_text = tokenizer.decode(output_sequences[0], skip_special_tokens=True)\n",
        "print(generated_text)\n"
      ]
    },
    {
      "cell_type": "markdown",
      "metadata": {
        "id": "8CbgA_x3o1m7"
      },
      "source": [
        "# Guardar Modelo en cuenta\n"
      ]
    },
    {
      "cell_type": "code",
      "execution_count": 31,
      "metadata": {
        "id": "14slIU8Ad4VU"
      },
      "outputs": [],
      "source": [
        "import locale\n",
        "def getpreferredencoding(do_setlocale = True):\n",
        "    return \"UTF-8\"\n",
        "locale.getpreferredencoding = getpreferredencoding"
      ]
    },
    {
      "cell_type": "markdown",
      "metadata": {
        "id": "WjVOyTBdo3co"
      },
      "source": [
        "Antes de guardar tu modelo, asegura de crear un repositorio en huggingface para guardar tu modelo.  \n",
        "![image.png](data:image/png;base64,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)"
      ]
    },
    {
      "cell_type": "markdown",
      "metadata": {
        "id": "9I7XGvx-pH4G"
      },
      "source": [
        "Revisa que version del modelo deseas guardar, la recomendacion es que sea el ultimo checkpoint"
      ]
    },
    {
      "cell_type": "code",
      "execution_count": 58,
      "metadata": {
        "colab": {
          "base_uri": "https://localhost:8080/"
        },
        "id": "GssEMX5dpPoz",
        "outputId": "543e1ead-b777-462c-e74f-239618a94e3c"
      },
      "outputs": [
        {
          "name": "stdout",
          "output_type": "stream",
          "text": [
            "checkpoint-1000  checkpoint-2000  checkpoint-3000  checkpoint-4000  checkpoint-500\n",
            "checkpoint-1500  checkpoint-2500  checkpoint-3500  checkpoint-4500  checkpoint-5000\n"
          ]
        }
      ],
      "source": [
        "! ls results"
      ]
    },
    {
      "cell_type": "code",
      "execution_count": 37,
      "metadata": {
        "colab": {
          "base_uri": "https://localhost:8080/",
          "height": 35
        },
        "id": "0Kbq_wFLeKH8",
        "outputId": "7f5208a5-62b4-4c91-e8e2-784828a69f79"
      },
      "outputs": [
        {
          "data": {
            "application/vnd.google.colaboratory.intrinsic+json": {
              "type": "string"
            },
            "text/plain": [
              "'https://huggingface.co/uumami/twitter_automl_023/tree/main/checkpoint-5000'"
            ]
          },
          "execution_count": 37,
          "metadata": {},
          "output_type": "execute_result"
        }
      ],
      "source": [
        "from huggingface_hub import HfApi\n",
        "api = HfApi()\n",
        "\n",
        "# Modificalo para que sea tu repositorio\n",
        "api.upload_folder(\n",
        "    folder_path=\"results/checkpoint-5000\", # Modelo a guardar\n",
        "    repo_id=\"uumami/twitter_automl_023\", # Repositorio\n",
        "    repo_type=\"model\", # Tipo de repositorio, en nuestro caso modelo\n",
        "    path_in_repo=\"checkpoint-5000\", # Carpeta para guardar el modelo\n",
        ")"
      ]
    },
    {
      "cell_type": "markdown",
      "metadata": {
        "id": "bGhYovcmpEaM"
      },
      "source": [
        "# Cargar Modelo guardado"
      ]
    },
    {
      "cell_type": "code",
      "execution_count": 79,
      "metadata": {
        "id": "4pVrCftHf6zB"
      },
      "outputs": [],
      "source": [
        "# Load model directly\n",
        "from transformers import AutoTokenizer, AutoModelForCausalLM\n",
        "tokenizer2 = GPT2Tokenizer.from_pretrained('gpt2', padding=\"max_length\",\n",
        "            truncation=True, max_length=280)\n",
        "tokenizer2.pad_token = tokenizer2.eos_token\n",
        "tokenizer2.padding_side = 'left'  # Explicitly set padding to the left\n",
        "model2 = AutoModelForCausalLM.from_pretrained(\"uumami/twitter_automl_023\")"
      ]
    },
    {
      "cell_type": "code",
      "execution_count": 84,
      "metadata": {
        "colab": {
          "base_uri": "https://localhost:8080/"
        },
        "id": "dOeaF8swgN5_",
        "outputId": "869ff1ee-b1ce-4a68-84f6-0a0286caf084"
      },
      "outputs": [
        {
          "name": "stdout",
          "output_type": "stream",
          "text": [
            "Me molesta de la cama. ¡¡¡¡¡¡¡¡¡¡¡¡¡¡¡¡¡¡¡¡¡¡¡¡¡¡¡¡¡¡¡¡¡¡¡¡¡¡¡¡¡¡¡¡¡¡¡¡¡¡¡¡¡¡¡¡¡¡¡¡¡¡¡¡¡¡¡¡¡¡¡¡¡¡¡¡¡¡¡¡¡¡¡¡¡¡¡¡¡¡¡¡¡¡¡¡¡¡¡¡¡¡¡¡¡¡¡¡¡¡¡¡¡¡¡¡¡¡¡¡¡¡¡¡¡¡¡¡¡¡¡¡¡¡¡¡\n"
          ]
        }
      ],
      "source": [
        "# Encoding the input text\n",
        "input_text = \"Me molesta\"\n",
        "encoding = tokenizer2.encode_plus(input_text, return_tensors='pt', truncation=True)\n",
        "\n",
        "input_ids = encoding ['input_ids']\n",
        "attention_mask = encoding ['attention_mask']\n",
        "\n",
        "# Generate a sequence of text\n",
        "output_sequences = model2.generate(\n",
        "    input_ids=input_ids,\n",
        "    #attention_mask=attention_mask,\n",
        "    max_length=280,  # You can change the length as needed\n",
        "    temperature=1.0,  # Controls the randomness of the generation\n",
        "    num_return_sequences=1,\n",
        "    pad_token_id=tokenizer2.eos_token_id  # Set the pad token id to the eos_token_id\n",
        ")\n",
        "\n",
        "# Decode the output\n",
        "generated_text = tokenizer2.decode(output_sequences[0], skip_special_tokens=True)\n",
        "print(generated_text)\n"
      ]
    }
  ],
  "metadata": {
    "accelerator": "GPU",
    "colab": {
      "gpuType": "T4",
      "provenance": []
    },
    "kernelspec": {
      "display_name": "Python 3",
      "name": "python3"
    },
    "language_info": {
      "name": "python"
    },
    "widgets": {
      "application/vnd.jupyter.widget-state+json": {
        "19753740669b4207b36081a66149e8fe": {
          "model_module": "@jupyter-widgets/controls",
          "model_module_version": "1.5.0",
          "model_name": "ProgressStyleModel",
          "state": {
            "_model_module": "@jupyter-widgets/controls",
            "_model_module_version": "1.5.0",
            "_model_name": "ProgressStyleModel",
            "_view_count": null,
            "_view_module": "@jupyter-widgets/base",
            "_view_module_version": "1.2.0",
            "_view_name": "StyleView",
            "bar_color": null,
            "description_width": ""
          }
        },
        "3e8b9d6c922242cd9a9e4815ea883c9f": {
          "model_module": "@jupyter-widgets/base",
          "model_module_version": "1.2.0",
          "model_name": "LayoutModel",
          "state": {
            "_model_module": "@jupyter-widgets/base",
            "_model_module_version": "1.2.0",
            "_model_name": "LayoutModel",
            "_view_count": null,
            "_view_module": "@jupyter-widgets/base",
            "_view_module_version": "1.2.0",
            "_view_name": "LayoutView",
            "align_content": null,
            "align_items": null,
            "align_self": null,
            "border": null,
            "bottom": null,
            "display": null,
            "flex": null,
            "flex_flow": null,
            "grid_area": null,
            "grid_auto_columns": null,
            "grid_auto_flow": null,
            "grid_auto_rows": null,
            "grid_column": null,
            "grid_gap": null,
            "grid_row": null,
            "grid_template_areas": null,
            "grid_template_columns": null,
            "grid_template_rows": null,
            "height": null,
            "justify_content": null,
            "justify_items": null,
            "left": null,
            "margin": null,
            "max_height": null,
            "max_width": null,
            "min_height": null,
            "min_width": null,
            "object_fit": null,
            "object_position": null,
            "order": null,
            "overflow": null,
            "overflow_x": null,
            "overflow_y": null,
            "padding": null,
            "right": null,
            "top": null,
            "visibility": null,
            "width": null
          }
        },
        "3ef44110fe2142e79e770ae6a7f4f0ff": {
          "model_module": "@jupyter-widgets/controls",
          "model_module_version": "1.5.0",
          "model_name": "HTMLModel",
          "state": {
            "_dom_classes": [],
            "_model_module": "@jupyter-widgets/controls",
            "_model_module_version": "1.5.0",
            "_model_name": "HTMLModel",
            "_view_count": null,
            "_view_module": "@jupyter-widgets/controls",
            "_view_module_version": "1.5.0",
            "_view_name": "HTMLView",
            "description": "",
            "description_tooltip": null,
            "layout": "IPY_MODEL_e782e9fe4cd24e87a5afb2cd45924a08",
            "placeholder": "​",
            "style": "IPY_MODEL_9740e5c2500942eea79c0f71d4d07a08",
            "value": " 5000/5000 [00:07&lt;00:00, 716.62 examples/s]"
          }
        },
        "7a8295e117e840f1bce62ac3490f0b07": {
          "model_module": "@jupyter-widgets/base",
          "model_module_version": "1.2.0",
          "model_name": "LayoutModel",
          "state": {
            "_model_module": "@jupyter-widgets/base",
            "_model_module_version": "1.2.0",
            "_model_name": "LayoutModel",
            "_view_count": null,
            "_view_module": "@jupyter-widgets/base",
            "_view_module_version": "1.2.0",
            "_view_name": "LayoutView",
            "align_content": null,
            "align_items": null,
            "align_self": null,
            "border": null,
            "bottom": null,
            "display": null,
            "flex": null,
            "flex_flow": null,
            "grid_area": null,
            "grid_auto_columns": null,
            "grid_auto_flow": null,
            "grid_auto_rows": null,
            "grid_column": null,
            "grid_gap": null,
            "grid_row": null,
            "grid_template_areas": null,
            "grid_template_columns": null,
            "grid_template_rows": null,
            "height": null,
            "justify_content": null,
            "justify_items": null,
            "left": null,
            "margin": null,
            "max_height": null,
            "max_width": null,
            "min_height": null,
            "min_width": null,
            "object_fit": null,
            "object_position": null,
            "order": null,
            "overflow": null,
            "overflow_x": null,
            "overflow_y": null,
            "padding": null,
            "right": null,
            "top": null,
            "visibility": null,
            "width": null
          }
        },
        "915b00551bcf492fa0ddd53f63157ea6": {
          "model_module": "@jupyter-widgets/base",
          "model_module_version": "1.2.0",
          "model_name": "LayoutModel",
          "state": {
            "_model_module": "@jupyter-widgets/base",
            "_model_module_version": "1.2.0",
            "_model_name": "LayoutModel",
            "_view_count": null,
            "_view_module": "@jupyter-widgets/base",
            "_view_module_version": "1.2.0",
            "_view_name": "LayoutView",
            "align_content": null,
            "align_items": null,
            "align_self": null,
            "border": null,
            "bottom": null,
            "display": null,
            "flex": null,
            "flex_flow": null,
            "grid_area": null,
            "grid_auto_columns": null,
            "grid_auto_flow": null,
            "grid_auto_rows": null,
            "grid_column": null,
            "grid_gap": null,
            "grid_row": null,
            "grid_template_areas": null,
            "grid_template_columns": null,
            "grid_template_rows": null,
            "height": null,
            "justify_content": null,
            "justify_items": null,
            "left": null,
            "margin": null,
            "max_height": null,
            "max_width": null,
            "min_height": null,
            "min_width": null,
            "object_fit": null,
            "object_position": null,
            "order": null,
            "overflow": null,
            "overflow_x": null,
            "overflow_y": null,
            "padding": null,
            "right": null,
            "top": null,
            "visibility": null,
            "width": null
          }
        },
        "9740e5c2500942eea79c0f71d4d07a08": {
          "model_module": "@jupyter-widgets/controls",
          "model_module_version": "1.5.0",
          "model_name": "DescriptionStyleModel",
          "state": {
            "_model_module": "@jupyter-widgets/controls",
            "_model_module_version": "1.5.0",
            "_model_name": "DescriptionStyleModel",
            "_view_count": null,
            "_view_module": "@jupyter-widgets/base",
            "_view_module_version": "1.2.0",
            "_view_name": "StyleView",
            "description_width": ""
          }
        },
        "a124ec865d734cf4bb7c20f4ba7214bd": {
          "model_module": "@jupyter-widgets/controls",
          "model_module_version": "1.5.0",
          "model_name": "HBoxModel",
          "state": {
            "_dom_classes": [],
            "_model_module": "@jupyter-widgets/controls",
            "_model_module_version": "1.5.0",
            "_model_name": "HBoxModel",
            "_view_count": null,
            "_view_module": "@jupyter-widgets/controls",
            "_view_module_version": "1.5.0",
            "_view_name": "HBoxView",
            "box_style": "",
            "children": [
              "IPY_MODEL_a6cf5d90b0d04eb08a1549e262e0b76f",
              "IPY_MODEL_ce8e59536083430b811a8b254e0f44d3",
              "IPY_MODEL_3ef44110fe2142e79e770ae6a7f4f0ff"
            ],
            "layout": "IPY_MODEL_3e8b9d6c922242cd9a9e4815ea883c9f"
          }
        },
        "a6cf5d90b0d04eb08a1549e262e0b76f": {
          "model_module": "@jupyter-widgets/controls",
          "model_module_version": "1.5.0",
          "model_name": "HTMLModel",
          "state": {
            "_dom_classes": [],
            "_model_module": "@jupyter-widgets/controls",
            "_model_module_version": "1.5.0",
            "_model_name": "HTMLModel",
            "_view_count": null,
            "_view_module": "@jupyter-widgets/controls",
            "_view_module_version": "1.5.0",
            "_view_name": "HTMLView",
            "description": "",
            "description_tooltip": null,
            "layout": "IPY_MODEL_915b00551bcf492fa0ddd53f63157ea6",
            "placeholder": "​",
            "style": "IPY_MODEL_e52acc7a328549b1a337fe5b63e0984f",
            "value": "Map: 100%"
          }
        },
        "ce8e59536083430b811a8b254e0f44d3": {
          "model_module": "@jupyter-widgets/controls",
          "model_module_version": "1.5.0",
          "model_name": "FloatProgressModel",
          "state": {
            "_dom_classes": [],
            "_model_module": "@jupyter-widgets/controls",
            "_model_module_version": "1.5.0",
            "_model_name": "FloatProgressModel",
            "_view_count": null,
            "_view_module": "@jupyter-widgets/controls",
            "_view_module_version": "1.5.0",
            "_view_name": "ProgressView",
            "bar_style": "success",
            "description": "",
            "description_tooltip": null,
            "layout": "IPY_MODEL_7a8295e117e840f1bce62ac3490f0b07",
            "max": 5000,
            "min": 0,
            "orientation": "horizontal",
            "style": "IPY_MODEL_19753740669b4207b36081a66149e8fe",
            "value": 5000
          }
        },
        "e52acc7a328549b1a337fe5b63e0984f": {
          "model_module": "@jupyter-widgets/controls",
          "model_module_version": "1.5.0",
          "model_name": "DescriptionStyleModel",
          "state": {
            "_model_module": "@jupyter-widgets/controls",
            "_model_module_version": "1.5.0",
            "_model_name": "DescriptionStyleModel",
            "_view_count": null,
            "_view_module": "@jupyter-widgets/base",
            "_view_module_version": "1.2.0",
            "_view_name": "StyleView",
            "description_width": ""
          }
        },
        "e782e9fe4cd24e87a5afb2cd45924a08": {
          "model_module": "@jupyter-widgets/base",
          "model_module_version": "1.2.0",
          "model_name": "LayoutModel",
          "state": {
            "_model_module": "@jupyter-widgets/base",
            "_model_module_version": "1.2.0",
            "_model_name": "LayoutModel",
            "_view_count": null,
            "_view_module": "@jupyter-widgets/base",
            "_view_module_version": "1.2.0",
            "_view_name": "LayoutView",
            "align_content": null,
            "align_items": null,
            "align_self": null,
            "border": null,
            "bottom": null,
            "display": null,
            "flex": null,
            "flex_flow": null,
            "grid_area": null,
            "grid_auto_columns": null,
            "grid_auto_flow": null,
            "grid_auto_rows": null,
            "grid_column": null,
            "grid_gap": null,
            "grid_row": null,
            "grid_template_areas": null,
            "grid_template_columns": null,
            "grid_template_rows": null,
            "height": null,
            "justify_content": null,
            "justify_items": null,
            "left": null,
            "margin": null,
            "max_height": null,
            "max_width": null,
            "min_height": null,
            "min_width": null,
            "object_fit": null,
            "object_position": null,
            "order": null,
            "overflow": null,
            "overflow_x": null,
            "overflow_y": null,
            "padding": null,
            "right": null,
            "top": null,
            "visibility": null,
            "width": null
          }
        }
      }
    }
  },
  "nbformat": 4,
  "nbformat_minor": 0
}
