{
  "cells": [
    {
      "cell_type": "markdown",
      "metadata": {},
      "source": [
        "<a target=\"_blank\" href=\"https://colab.research.google.com/github/sonder-art/automl_o23/blob/main/codigo/automl_nn/ray_cifar10.ipynb\">\n",
        "  <img src=\"https://colab.research.google.com/assets/colab-badge.svg\" alt=\"Open In Colab\"/>\n",
        "</a>"
      ]
    },
    {
      "cell_type": "code",
      "execution_count": 1,
      "metadata": {
        "colab": {
          "base_uri": "https://localhost:8080/"
        },
        "id": "nvMwm89cXFFN",
        "outputId": "f9b78b17-b5ef-47e2-a8e8-bc2995a0d4f2"
      },
      "outputs": [
        {
          "name": "stdout",
          "output_type": "stream",
          "text": [
            "Requirement already satisfied: ray[tune] in /usr/local/lib/python3.10/dist-packages (2.7.1)\n",
            "Requirement already satisfied: torch in /usr/local/lib/python3.10/dist-packages (2.1.0+cu118)\n",
            "Requirement already satisfied: torchvision in /usr/local/lib/python3.10/dist-packages (0.16.0+cu118)\n",
            "Requirement already satisfied: click>=7.0 in /usr/local/lib/python3.10/dist-packages (from ray[tune]) (8.1.7)\n",
            "Requirement already satisfied: filelock in /usr/local/lib/python3.10/dist-packages (from ray[tune]) (3.12.4)\n",
            "Requirement already satisfied: jsonschema in /usr/local/lib/python3.10/dist-packages (from ray[tune]) (4.19.1)\n",
            "Requirement already satisfied: msgpack<2.0.0,>=1.0.0 in /usr/local/lib/python3.10/dist-packages (from ray[tune]) (1.0.7)\n",
            "Requirement already satisfied: packaging in /usr/local/lib/python3.10/dist-packages (from ray[tune]) (23.2)\n",
            "Requirement already satisfied: protobuf!=3.19.5,>=3.15.3 in /usr/local/lib/python3.10/dist-packages (from ray[tune]) (3.20.3)\n",
            "Requirement already satisfied: pyyaml in /usr/local/lib/python3.10/dist-packages (from ray[tune]) (6.0.1)\n",
            "Requirement already satisfied: aiosignal in /usr/local/lib/python3.10/dist-packages (from ray[tune]) (1.3.1)\n",
            "Requirement already satisfied: frozenlist in /usr/local/lib/python3.10/dist-packages (from ray[tune]) (1.4.0)\n",
            "Requirement already satisfied: requests in /usr/local/lib/python3.10/dist-packages (from ray[tune]) (2.31.0)\n",
            "Requirement already satisfied: numpy>=1.19.3 in /usr/local/lib/python3.10/dist-packages (from ray[tune]) (1.23.5)\n",
            "Requirement already satisfied: pandas in /usr/local/lib/python3.10/dist-packages (from ray[tune]) (1.5.3)\n",
            "Requirement already satisfied: tensorboardX>=1.9 in /usr/local/lib/python3.10/dist-packages (from ray[tune]) (2.6.2.2)\n",
            "Requirement already satisfied: pyarrow>=6.0.1 in /usr/local/lib/python3.10/dist-packages (from ray[tune]) (9.0.0)\n",
            "Requirement already satisfied: fsspec in /usr/local/lib/python3.10/dist-packages (from ray[tune]) (2023.6.0)\n",
            "Requirement already satisfied: typing-extensions in /usr/local/lib/python3.10/dist-packages (from torch) (4.5.0)\n",
            "Requirement already satisfied: sympy in /usr/local/lib/python3.10/dist-packages (from torch) (1.12)\n",
            "Requirement already satisfied: networkx in /usr/local/lib/python3.10/dist-packages (from torch) (3.1)\n",
            "Requirement already satisfied: jinja2 in /usr/local/lib/python3.10/dist-packages (from torch) (3.1.2)\n",
            "Requirement already satisfied: triton==2.1.0 in /usr/local/lib/python3.10/dist-packages (from torch) (2.1.0)\n",
            "Requirement already satisfied: pillow!=8.3.*,>=5.3.0 in /usr/local/lib/python3.10/dist-packages (from torchvision) (9.4.0)\n",
            "Requirement already satisfied: MarkupSafe>=2.0 in /usr/local/lib/python3.10/dist-packages (from jinja2->torch) (2.1.3)\n",
            "Requirement already satisfied: attrs>=22.2.0 in /usr/local/lib/python3.10/dist-packages (from jsonschema->ray[tune]) (23.1.0)\n",
            "Requirement already satisfied: jsonschema-specifications>=2023.03.6 in /usr/local/lib/python3.10/dist-packages (from jsonschema->ray[tune]) (2023.7.1)\n",
            "Requirement already satisfied: referencing>=0.28.4 in /usr/local/lib/python3.10/dist-packages (from jsonschema->ray[tune]) (0.30.2)\n",
            "Requirement already satisfied: rpds-py>=0.7.1 in /usr/local/lib/python3.10/dist-packages (from jsonschema->ray[tune]) (0.10.6)\n",
            "Requirement already satisfied: python-dateutil>=2.8.1 in /usr/local/lib/python3.10/dist-packages (from pandas->ray[tune]) (2.8.2)\n",
            "Requirement already satisfied: pytz>=2020.1 in /usr/local/lib/python3.10/dist-packages (from pandas->ray[tune]) (2023.3.post1)\n",
            "Requirement already satisfied: charset-normalizer<4,>=2 in /usr/local/lib/python3.10/dist-packages (from requests->ray[tune]) (3.3.0)\n",
            "Requirement already satisfied: idna<4,>=2.5 in /usr/local/lib/python3.10/dist-packages (from requests->ray[tune]) (3.4)\n",
            "Requirement already satisfied: urllib3<3,>=1.21.1 in /usr/local/lib/python3.10/dist-packages (from requests->ray[tune]) (2.0.7)\n",
            "Requirement already satisfied: certifi>=2017.4.17 in /usr/local/lib/python3.10/dist-packages (from requests->ray[tune]) (2023.7.22)\n",
            "Requirement already satisfied: mpmath>=0.19 in /usr/local/lib/python3.10/dist-packages (from sympy->torch) (1.3.0)\n",
            "Requirement already satisfied: six>=1.5 in /usr/local/lib/python3.10/dist-packages (from python-dateutil>=2.8.1->pandas->ray[tune]) (1.16.0)\n"
          ]
        }
      ],
      "source": [
        "!pip install \"ray[tune]\" torch torchvision"
      ]
    },
    {
      "cell_type": "code",
      "execution_count": 2,
      "metadata": {
        "id": "NxS04PtsYAsL"
      },
      "outputs": [],
      "source": [
        "import numpy as np\n",
        "import torch\n",
        "import torch.optim as optim\n",
        "import torch.nn as nn\n",
        "from torchvision import datasets, transforms\n",
        "from torch.utils.data import DataLoader\n",
        "import torch.nn.functional as F\n"
      ]
    },
    {
      "cell_type": "markdown",
      "metadata": {
        "id": "QWimpvjRpAAH"
      },
      "source": [
        "# CIFAR10"
      ]
    },
    {
      "cell_type": "markdown",
      "metadata": {
        "id": "3KHy1umfpCCV"
      },
      "source": [
        "El conjunto de datos CIFAR-10 es un conjunto de datos ampliamente utilizado en el campo de la visión por computadora y el aprendizaje automático. Aquí tienes una breve explicación:\n",
        "\n",
        "`Nombre completo`: CIFAR-10 (Canadian Institute for Advanced Research - 10)\n",
        "\n",
        "`Descripción`: CIFAR-10 es un conjunto de datos que consta de 60,000 imágenes de 32x32 píxeles en color (3 canales: rojo, verde y azul). Estas imágenes se dividen en 10 clases diferentes, con 6,000 imágenes por clase. Cada imagen pertenece a una de las siguientes categorías:  \n",
        "        Avión  \n",
        "        Automóvil  \n",
        "        Pájaro  \n",
        "        Gato  \n",
        "        Ciervo  \n",
        "        Perro  \n",
        "        Rana  \n",
        "        Caballo  \n",
        "        Barco  \n",
        "        Camión  \n",
        "\n",
        "`Uso`: CIFAR-10 se utiliza principalmente para la evaluación y desarrollo de algoritmos de clasificación de imágenes. Es un conjunto de datos desafiante debido a su baja resolución y a la variabilidad en las condiciones de iluminación, orientación y posición de los objetos en las imágenes. Los investigadores y los practicantes de aprendizaje automático utilizan CIFAR-10 para entrenar y probar modelos de clasificación de imágenes, y se utiliza como un punto de referencia común para comparar el rendimiento de diferentes algoritmos.\n",
        "\n",
        "`División de datos`: El conjunto de datos se divide en dos conjuntos: un conjunto de entrenamiento con 50,000 imágenes y un conjunto de prueba con 10,000 imágenes. Esto permite a los desarrolladores entrenar modelos en un conjunto de datos grande y luego evaluar su rendimiento en un conjunto de datos independiente para medir la generalización del modelo.\n",
        "\n",
        "`Dificultades`: A pesar de su tamaño relativamente pequeño, CIFAR-10 presenta desafíos significativos debido a la diversidad de clases y la baja resolución de las imágenes. Los objetos en las imágenes son pequeños y a menudo están en contextos complejos, lo que hace que la clasificación sea una tarea desafiante.\n",
        "\n",
        "En resumen, CIFAR-10 es un conjunto de datos ampliamente utilizado en la comunidad de aprendizaje automático y visión por computadora para tareas de clasificación de imágenes. Ayuda a los investigadores y desarrolladores a probar y mejorar sus algoritmos y modelos en un conjunto de datos estándar y desafiante."
      ]
    },
    {
      "cell_type": "markdown",
      "metadata": {
        "id": "zYxBDwaCZkET"
      },
      "source": [
        "# EDA"
      ]
    },
    {
      "cell_type": "code",
      "execution_count": 3,
      "metadata": {
        "id": "tIAA0rH4Zy6a"
      },
      "outputs": [],
      "source": [
        "import torch\n",
        "import torchvision\n",
        "import torchvision.transforms as transforms"
      ]
    },
    {
      "cell_type": "markdown",
      "metadata": {
        "id": "21YkczswaQKj"
      },
      "source": [
        "## Descargar los Datos"
      ]
    },
    {
      "cell_type": "code",
      "execution_count": 4,
      "metadata": {
        "colab": {
          "base_uri": "https://localhost:8080/"
        },
        "id": "GX_pDXa5ZllB",
        "outputId": "46cda590-06da-4b5a-932b-047d01f035eb"
      },
      "outputs": [
        {
          "name": "stdout",
          "output_type": "stream",
          "text": [
            "Files already downloaded and verified\n",
            "Files already downloaded and verified\n"
          ]
        }
      ],
      "source": [
        "# Define the transformation\n",
        "transform = transforms.Compose(\n",
        "    [transforms.ToTensor()])\n",
        "\n",
        "# Load the dataset\n",
        "trainset = torchvision.datasets.CIFAR10(root='./data', train=True,\n",
        "                                        download=True, transform=transform)\n",
        "trainloader = torch.utils.data.DataLoader(trainset, batch_size=4,\n",
        "                                          shuffle=True, num_workers=2)\n",
        "\n",
        "testset = torchvision.datasets.CIFAR10(root='./data', train=False,\n",
        "                                       download=True, transform=transform)\n",
        "testloader = torch.utils.data.DataLoader(testset, batch_size=4,\n",
        "                                         shuffle=False, num_workers=2)\n",
        "\n",
        "classes = ('plane', 'car', 'bird', 'cat', 'deer', 'dog', 'frog', 'horse', 'ship', 'truck')\n"
      ]
    },
    {
      "cell_type": "markdown",
      "metadata": {
        "id": "EcQh86pxaT4M"
      },
      "source": [
        "## Visualizaciones"
      ]
    },
    {
      "cell_type": "code",
      "execution_count": 5,
      "metadata": {
        "colab": {
          "base_uri": "https://localhost:8080/",
          "height": 210
        },
        "id": "DpWqWxBeZ6Zu",
        "outputId": "9d7ccc83-4979-4acb-8cbd-f01639d5f865"
      },
      "outputs": [
        {
          "data": {
            "image/png": "[encoded data removed]",
            "text/plain": [
              "<Figure size 640x480 with 1 Axes>"
            ]
          },
          "metadata": {},
          "output_type": "display_data"
        },
        {
          "name": "stdout",
          "output_type": "stream",
          "text": [
            "  car truck horse plane\n"
          ]
        }
      ],
      "source": [
        "import matplotlib.pyplot as plt\n",
        "import numpy as np\n",
        "\n",
        "# Function to show an image\n",
        "def imshow(img):\n",
        "    img = img / 2 + 0.5     # unnormalize\n",
        "    npimg = img.numpy()\n",
        "    plt.imshow(np.transpose(npimg, (1, 2, 0)))\n",
        "    plt.show()\n",
        "\n",
        "# Get some random training images\n",
        "dataiter = iter(trainloader)\n",
        "images, labels = next(dataiter)\n",
        "\n",
        "\n",
        "# Show images\n",
        "imshow(torchvision.utils.make_grid(images))\n",
        "# Print labels\n",
        "print(' '.join('%5s' % classes[labels[j]] for j in range(4)))\n"
      ]
    },
    {
      "cell_type": "markdown",
      "metadata": {
        "id": "mJqlSlP-agCA"
      },
      "source": [
        "## Distribucion de Clases"
      ]
    },
    {
      "cell_type": "code",
      "execution_count": 6,
      "metadata": {
        "id": "93rxVpzXadpU"
      },
      "outputs": [],
      "source": [
        "# import collections\n",
        "\n",
        "# # Calculate class distribution\n",
        "# class_counts = collections.Counter()\n",
        "# for _, labels in trainloader:\n",
        "#     class_counts.update(labels.numpy())\n",
        "\n",
        "# # Plot class distribution\n",
        "# labels, values = zip(*class_counts.items())\n",
        "# indexes = np.arange(len(labels))\n",
        "# width = 1\n",
        "\n",
        "# plt.bar(indexes, values, width)\n",
        "# plt.xticks(indexes + width * 0.5, labels)\n",
        "# plt.show()\n"
      ]
    },
    {
      "cell_type": "markdown",
      "metadata": {
        "id": "Ih-PKSdpanuO"
      },
      "source": [
        "Podemos ver que en general las clases estan balanceadas."
      ]
    },
    {
      "cell_type": "markdown",
      "metadata": {
        "id": "M6lQZIybZl3h"
      },
      "source": [
        "# Entrenamiento"
      ]
    },
    {
      "cell_type": "code",
      "execution_count": 7,
      "metadata": {
        "id": "pCsQwKErcJjX"
      },
      "outputs": [],
      "source": [
        "from ray import train, tune\n",
        "from ray.tune.schedulers import ASHAScheduler\n",
        "\n",
        "from torch.utils.data import DataLoader, random_split"
      ]
    },
    {
      "cell_type": "markdown",
      "metadata": {
        "id": "vhFIQzD9Yp2k"
      },
      "source": [
        "Cuando uses arquitecturas o codigo generado por modelos preentrenados, asegurate de revisar que las `funciones de perdida` y el `output` de las redes sean correctos."
      ]
    },
    {
      "cell_type": "markdown",
      "metadata": {
        "id": "Zy-h63PujlNv"
      },
      "source": [
        "## Red Convolucional"
      ]
    },
    {
      "cell_type": "code",
      "execution_count": 8,
      "metadata": {
        "id": "WL2b09vWX9xH"
      },
      "outputs": [],
      "source": [
        "class Net(nn.Module):\n",
        "    def __init__(self):\n",
        "        super(Net, self).__init__()\n",
        "        self.conv1 = nn.Conv2d(3, 64, 5)\n",
        "        self.pool = nn.MaxPool2d(2, 2)\n",
        "        self.conv2 = nn.Conv2d(64, 128, 5)\n",
        "        self.fc1 = nn.Linear(128 * 5 * 5, 256)\n",
        "        self.fc2 = nn.Linear(256, 84)\n",
        "        self.fc3 = nn.Linear(84, 10)\n",
        "\n",
        "    def forward(self, x):\n",
        "        x = self.pool(nn.functional.relu(self.conv1(x)))\n",
        "        x = self.pool(nn.functional.relu(self.conv2(x)))\n",
        "        x = x.view(-1, 128 * 5 * 5)\n",
        "        x = nn.functional.relu(self.fc1(x))\n",
        "        x = nn.functional.relu(self.fc2(x))\n",
        "        x = self.fc3(x)\n",
        "        return x"
      ]
    },
    {
      "cell_type": "code",
      "execution_count": 9,
      "metadata": {
        "id": "ujknZ-dPYtl5"
      },
      "outputs": [],
      "source": [
        "class Net(nn.Module):\n",
        "    def __init__(self):\n",
        "        super(Net, self).__init__()\n",
        "        self.conv1 = nn.Conv2d(3, 64, 5)\n",
        "        self.bn1 = nn.BatchNorm2d(64)  # Batch normalization for 64 feature maps\n",
        "\n",
        "        self.pool = nn.MaxPool2d(2, 2)\n",
        "\n",
        "        self.conv2 = nn.Conv2d(64, 128, 5)\n",
        "        self.bn2 = nn.BatchNorm2d(128)  # Batch normalization for 128 feature maps\n",
        "\n",
        "        self.fc1 = nn.Linear(128 * 5 * 5, 256)\n",
        "        self.bn_fc1 = nn.BatchNorm1d(256)  # Batch normalization for 256 features\n",
        "\n",
        "        self.fc2 = nn.Linear(256, 84)\n",
        "        self.bn_fc2 = nn.BatchNorm1d(84)   # Batch normalization for 84 features\n",
        "\n",
        "        self.fc3 = nn.Linear(84, 10)\n",
        "\n",
        "    def forward(self, x):\n",
        "        x = self.pool(nn.functional.relu(self.bn1(self.conv1(x))))  # Added batch normalization\n",
        "        x = self.pool(nn.functional.relu(self.bn2(self.conv2(x))))  # Added batch normalization\n",
        "        x = x.view(-1, 128 * 5 * 5)\n",
        "        x = nn.functional.relu(self.bn_fc1(self.fc1(x)))  # Added batch normalization\n",
        "        x = nn.functional.relu(self.bn_fc2(self.fc2(x)))  # Added batch normalization\n",
        "        x = self.fc3(x)\n",
        "        return x\n"
      ]
    },
    {
      "cell_type": "markdown",
      "metadata": {
        "id": "vOz8Etl_jqGo"
      },
      "source": [
        "## Trial simple de Ray-Tune"
      ]
    },
    {
      "cell_type": "markdown",
      "metadata": {
        "id": "Z_5s7qMhjtke"
      },
      "source": [
        "### Definir funciones de train, val y test"
      ]
    },
    {
      "cell_type": "code",
      "execution_count": 10,
      "metadata": {
        "id": "B2NRwcf6ZFmE"
      },
      "outputs": [],
      "source": [
        "import torch.nn.functional as F\n",
        "\n",
        "EPOCH_SIZE = 512\n",
        "TEST_SIZE = 256\n",
        "\n",
        "def train_func(model, optimizer, train_loader):\n",
        "    device = torch.device(\"cuda\" if torch.cuda.is_available() else \"cpu\")\n",
        "    model.train()\n",
        "    correct_train = 0\n",
        "    total_train = 0\n",
        "    total_loss = 0.0\n",
        "    total_batches = 0\n",
        "\n",
        "    for batch_idx, (data, target) in enumerate(train_loader):\n",
        "        # Entrenemos con algunas observaciones para debuggear\n",
        "        # if batch_idx * len(data) > EPOCH_SIZE:\n",
        "        #     break\n",
        "        data, target = data.to(device), target.to(device)\n",
        "        optimizer.zero_grad()\n",
        "        output = model(data)\n",
        "        loss = F.cross_entropy(output, target)\n",
        "        loss.backward()\n",
        "        optimizer.step()\n",
        "\n",
        "        total_loss += loss.item()\n",
        "        _, predicted = torch.max(output.data, 1)\n",
        "        total_train += target.size(0)\n",
        "        correct_train += (predicted == target).sum().item()\n",
        "        total_batches += 1\n",
        "\n",
        "    average_loss = total_loss / total_batches\n",
        "    accuracy_train = correct_train / total_train\n",
        "    return average_loss, accuracy_train\n",
        "\n",
        "def validate_func(model, val_loader):\n",
        "    device = torch.device(\"cuda\" if torch.cuda.is_available() else \"cpu\")\n",
        "    model.eval()\n",
        "    correct = 0\n",
        "    total = 0\n",
        "    total_loss = 0.0\n",
        "    total_batches = 0\n",
        "\n",
        "    with torch.no_grad():\n",
        "        for batch_idx, (data, target) in enumerate(val_loader):\n",
        "            data, target = data.to(device), target.to(device)\n",
        "            outputs = model(data)\n",
        "            loss =  F.cross_entropy(outputs, target)\n",
        "\n",
        "            total_loss += loss.item()\n",
        "            _, predicted = torch.max(outputs.data, 1)\n",
        "            total += target.size(0)\n",
        "            correct += (predicted == target).sum().item()\n",
        "            total_batches += 1\n",
        "\n",
        "    average_loss = total_loss / total_batches\n",
        "    accuracy = correct / total\n",
        "    return average_loss, accuracy\n",
        "\n",
        "def test_func(model, data_loader):\n",
        "    device = torch.device(\"cuda\" if torch.cuda.is_available() else \"cpu\")\n",
        "    model.eval()\n",
        "    correct = 0\n",
        "    total = 0\n",
        "    total_loss = 0.0\n",
        "    total_batches = 0\n",
        "\n",
        "    with torch.no_grad():\n",
        "        for batch_idx, (data, target) in enumerate(data_loader):\n",
        "            # Evaluemos con algunas observaciones para debuggear\n",
        "            # if batch_idx * len(data) > TEST_SIZE:\n",
        "                # break\n",
        "            data, target = data.to(device), target.to(device)\n",
        "            outputs = model(data)\n",
        "            loss = F.cross_entropy(outputs, target)\n",
        "\n",
        "            total_loss += loss.item()\n",
        "            _, predicted = torch.max(outputs.data, 1)\n",
        "            total += target.size(0)\n",
        "            correct += (predicted == target).sum().item()\n",
        "            total_batches += 1\n",
        "\n",
        "    average_loss = total_loss / total_batches\n",
        "    accuracy = correct / total\n",
        "    return average_loss, accuracy\n"
      ]
    },
    {
      "cell_type": "markdown",
      "metadata": {
        "id": "t1WX1HY8j3LC"
      },
      "source": [
        "### Loop de entrenamiento con Ray-Tune"
      ]
    },
    {
      "cell_type": "code",
      "execution_count": 11,
      "metadata": {
        "id": "IrkilU2_DJLy"
      },
      "outputs": [],
      "source": [
        "import os\n",
        "from ray import tune\n",
        "\n",
        "class CIFAR10Trainable(tune.Trainable):\n",
        "    def setup(self, config):\n",
        "        # Data Setup\n",
        "        cifar10_transforms = transforms.Compose([\n",
        "            transforms.ToTensor(),\n",
        "            transforms.Normalize((0.4914, 0.4822, 0.4465), (0.247, 0.243, 0.261))\n",
        "        ])\n",
        "\n",
        "        full_train_dataset = torchvision.datasets.CIFAR10(root=\"~/data\",\n",
        "                                                          train=True, download=True, transform=cifar10_transforms)\n",
        "        test_dataset = torchvision.datasets.CIFAR10(root=\"~/data\",\n",
        "                                                    train=False, download=True, transform=cifar10_transforms)\n",
        "\n",
        "        num_train = len(full_train_dataset)\n",
        "        split_ratio = 0.8\n",
        "        train_count = int(split_ratio * num_train)\n",
        "        val_count = num_train - train_count\n",
        "\n",
        "        train_dataset, val_dataset = random_split(full_train_dataset, [train_count, val_count])\n",
        "\n",
        "        self.train_loader = DataLoader(train_dataset, batch_size=64, shuffle=True)\n",
        "        self.val_loader = DataLoader(val_dataset, batch_size=64, shuffle=False)\n",
        "        self.test_loader = DataLoader(test_dataset, batch_size=64, shuffle=False)\n",
        "\n",
        "        self.device = torch.device(\"cuda\" if torch.cuda.is_available() else \"cpu\")\n",
        "\n",
        "        self.model = Net()\n",
        "        self.model.to(self.device)\n",
        "\n",
        "        self.optimizer = optim.Adam(self.model.parameters(), lr=config[\"lr\"])\n",
        "        self.epochs = config[\"epochs\"]\n",
        "        self.config = config\n",
        "\n",
        "    def step(self): # Esto define una epoca\n",
        "        train_loss, train_acc = train_func(self.model, self.optimizer, self.train_loader)\n",
        "        val_loss, val_acc = validate_func(self.model, self.val_loader)\n",
        "        test_loss, test_acc = test_func(self.model, self.test_loader)\n",
        "\n",
        "        # Esto es reportado a Ray Tune\n",
        "        return {\n",
        "            \"lr\":self.config[\"lr\"],\n",
        "            \"train_loss\": train_loss, \"train_accuracy\": train_acc,\n",
        "            \"val_loss\": val_loss, \"val_accuracy\": val_acc,\n",
        "            \"test_loss\": test_loss, \"test_accuracy\": test_acc\n",
        "        }\n",
        "\n",
        "\n",
        "    def save_checkpoint(self, checkpoint_dir):\n",
        "        checkpoint_path = os.path.join(checkpoint_dir, \"checkpoint.pth\")\n",
        "        torch.save({\n",
        "            \"model_state_dict\": self.model.state_dict(),\n",
        "            \"optimizer_state_dict\": self.optimizer.state_dict()\n",
        "        }, checkpoint_path)\n",
        "        return checkpoint_dir  # Return only the directory\n",
        "\n",
        "    def load_checkpoint(self, checkpoint_path):\n",
        "        checkpoint = torch.load(checkpoint_path)\n",
        "        self.model.load_state_dict(checkpoint[\"model_state_dict\"])\n",
        "        self.optimizer.load_state_dict(checkpoint[\"optimizer_state_dict\"])\n"
      ]
    },
    {
      "cell_type": "markdown",
      "metadata": {
        "id": "_QFYyiJGj7ey"
      },
      "source": [
        "### Ejecucion y Visualizacion"
      ]
    },
    {
      "cell_type": "markdown",
      "metadata": {
        "id": "7aXVIOt0pqSG"
      },
      "source": [
        "![image.png](data:image/png;base64,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)"
      ]
    },
    {
      "cell_type": "code",
      "execution_count": 15,
      "metadata": {
        "id": "vH3nu5XQd1UI"
      },
      "outputs": [],
      "source": [
        "import numpy as np\n",
        "from ray import tune\n",
        "\n",
        "search_space = {\n",
        "    \"lr\": tune.sample_from(lambda spec: 10 ** (-10 * np.random.rand())),\n",
        "    'epochs':2\n",
        "}\n",
        "\n",
        "# Use GPU if available\n",
        "if torch.cuda.is_available():\n",
        "    device = \"cuda\"\n",
        "    resources_per_trial = {\"gpu\": .5} # Podemos dividir el GPU\n",
        "else:\n",
        "    device = \"cpu\"\n",
        "    resources_per_trial = {}\n",
        "\n",
        "\n",
        "analysis = tune.run(\n",
        "    CIFAR10Trainable, # Funcion de entrenamiento\n",
        "    config=search_space, # Espacio de busqueda de Hyperparametros\n",
        "    resources_per_trial=resources_per_trial, # recursos de entrenamiento\n",
        "    stop={\"training_iteration\": search_space['epochs']},  # Epocas\n",
        "    checkpoint_at_end=True,\n",
        "    num_samples=1,  # Numero de Experimentos\n",
        ")"
      ]
    },
    {
      "cell_type": "code",
      "execution_count": null,
      "metadata": {
        "id": "_jyuqpjQgA3r"
      },
      "outputs": [],
      "source": [
        "import pandas as pd\n",
        "import seaborn as sns\n",
        "import matplotlib.pyplot as plt\n",
        "\n",
        "def plot_tune_results(analysis):\n",
        "    # Extract data from analysis object\n",
        "    dfs = analysis.trial_dataframes\n",
        "    metric_data = {\n",
        "        \"iteration\": [],\n",
        "        \"metric\": [],\n",
        "        \"value\": [],\n",
        "    }\n",
        "\n",
        "    for d in dfs.values():\n",
        "        for metric in [\"train_accuracy\", \"val_accuracy\", \"test_accuracy\", \"train_loss\", \"val_loss\", \"test_loss\"]:\n",
        "            if metric in d:\n",
        "                for iteration, value in enumerate(d[metric]):\n",
        "                    metric_data[\"iteration\"].append(iteration)\n",
        "                    metric_data[\"metric\"].append(metric)\n",
        "                    metric_data[\"value\"].append(value)\n",
        "\n",
        "    df = pd.DataFrame(metric_data)\n",
        "    # Plotting accuracies\n",
        "    plt.figure(figsize=(12, 6))\n",
        "    sns.lineplot(data=df[df[\"metric\"].isin([\"train_accuracy\", \"val_accuracy\", \"test_accuracy\"])],\n",
        "                 x=\"iteration\", y=\"value\", hue=\"metric\")\n",
        "    plt.title(\"Accuracies over Iterations\")\n",
        "    plt.show()\n",
        "\n",
        "    # Plotting losses\n",
        "    plt.figure(figsize=(12, 6))\n",
        "    sns.lineplot(data=df[df[\"metric\"].isin([\"train_loss\", \"val_loss\", \"test_loss\"])],\n",
        "                 x=\"iteration\", y=\"value\", hue=\"metric\")\n",
        "    plt.title(\"Losses over Iterations\")\n",
        "    plt.show()\n",
        "\n"
      ]
    },
    {
      "cell_type": "code",
      "execution_count": null,
      "metadata": {
        "id": "rE1RFtmZuEg0"
      },
      "outputs": [],
      "source": [
        "plot_tune_results(analysis)"
      ]
    },
    {
      "cell_type": "markdown",
      "metadata": {
        "id": "fUqQV1pRLFtQ"
      },
      "source": [
        "Carguemos el mejor modelo, que metrica usamos para cargar el mejor modelo?"
      ]
    },
    {
      "cell_type": "code",
      "execution_count": null,
      "metadata": {
        "id": "EWr10M9dEMcS"
      },
      "outputs": [],
      "source": [
        "from sklearn.metrics import matthews_corrcoef\n",
        "def compute_metrics(model, data_loader, device):\n",
        "    model.eval()  # Set model to evaluation mode\n",
        "    total_correct = 0\n",
        "    total_samples = 0\n",
        "    total_loss = 0\n",
        "    all_preds = []\n",
        "    all_labels = []\n",
        "\n",
        "    criterion = torch.nn.CrossEntropyLoss()\n",
        "\n",
        "    with torch.no_grad():\n",
        "        for inputs, labels in data_loader:\n",
        "            inputs, labels = inputs.to(device), labels.to(device)\n",
        "            outputs = model(inputs)\n",
        "            loss = criterion(outputs, labels)\n",
        "\n",
        "            _, predicted = torch.max(outputs, 1)\n",
        "            total_samples += labels.size(0)\n",
        "            total_correct += (predicted == labels).sum().item()\n",
        "\n",
        "            total_loss += loss.item() * inputs.size(0)\n",
        "\n",
        "            # Append for MCC\n",
        "            all_preds.extend(predicted.cpu().numpy())\n",
        "            all_labels.extend(labels.cpu().numpy())\n",
        "\n",
        "    accuracy = 100.0 * total_correct / total_samples\n",
        "    avg_loss = total_loss / total_samples\n",
        "    mcc = matthews_corrcoef(all_labels, all_preds) if len(set(all_labels)) > 1 else 0  # Handle cases where only one class is present\n",
        "\n",
        "    return {\"loss\": avg_loss, \"accuracy\": accuracy, \"mcc\": mcc}\n",
        "\n",
        "def evaluate_best_model(analysis, metric, direction='max'):\n",
        "    try:\n",
        "        best_trial = analysis.get_best_trial(metric, direction, 'last')\n",
        "        best_checkpoint = best_trial.checkpoint.path\n",
        "    except:\n",
        "        return 0\n",
        "\n",
        "    state_dict = torch.load(os.path.join(best_checkpoint, \"checkpoint.pth\"))['model_state_dict']\n",
        "\n",
        "    model = Net()\n",
        "    model.load_state_dict(state_dict)\n",
        "\n",
        "\n",
        "    # 1. Setup your test dataloader:\n",
        "    cifar10_transforms = transforms.Compose([\n",
        "        transforms.ToTensor(),\n",
        "        transforms.Normalize((0.4914, 0.4822, 0.4465), (0.247, 0.243, 0.261))\n",
        "    ])\n",
        "    test_dataset = torchvision.datasets.CIFAR10(root=\"~/data\", train=False, download=True, transform=cifar10_transforms)\n",
        "    test_loader = DataLoader(test_dataset, batch_size=64, shuffle=False)\n",
        "\n",
        "    # 3. Use the function to evaluate the model:\n",
        "    device = torch.device(\"cuda\" if torch.cuda.is_available() else \"cpu\")\n",
        "    model.to(device)\n",
        "    metrics = compute_metrics(model, test_loader, device)\n",
        "\n"
      ]
    },
    {
      "cell_type": "code",
      "execution_count": null,
      "metadata": {
        "id": "VTCQHD1BNKqM"
      },
      "outputs": [],
      "source": [
        "results = evaluate_best_model(analysis, 'cual?', 'max')\n",
        "results"
      ]
    },
    {
      "cell_type": "markdown",
      "metadata": {
        "id": "Y_jjZf0bkG0K"
      },
      "source": [
        "## ASHAScheduler"
      ]
    },
    {
      "cell_type": "markdown",
      "metadata": {
        "id": "KYF_T-Y6mCwI"
      },
      "source": [
        "### Explicacion"
      ]
    },
    {
      "cell_type": "markdown",
      "metadata": {
        "id": "S08OP2D4ksfU"
      },
      "source": [
        "La función `ASHAScheduler` de Ray Tune es una herramienta para programar y administrar la ejecución de experimentos de búsqueda de hiperparámetros utilizando el algoritmo Asynchronous Successive Halving (ASHA).  \n",
        "  \n",
        "[Paper de ASHAScheduler](https://openreview.net/forum?id=S1Y7OOlRZ)\n"
      ]
    },
    {
      "cell_type": "markdown",
      "metadata": {
        "id": "TiHVmT8VmKu1"
      },
      "source": [
        "ASHA es eficiente porque permite que las pruebas prometedoras se ejecuten durante más iteraciones, mientras que las pruebas menos prometedoras se detienen temprano.\n"
      ]
    },
    {
      "cell_type": "markdown",
      "metadata": {
        "id": "SOEmGV0lmTfj"
      },
      "source": [
        "1. Inicialización de Pruebas: Se inicia un conjunto de pruebas de hiperparámetros, cada una con una configuración diferente. Estas pruebas se ejecutan simultáneamente, y cada una se evalúa en función de una métrica de rendimiento específica, como la precisión en un conjunto de validación.\n",
        "\n",
        "2. Evaluación de Pruebas: Las pruebas se ejecutan durante un número fijo de iteraciones (definido por el parámetro `max_t`). En cada iteración, se recopilan métricas de rendimiento. La métrica seleccionada para la evaluación (definida por el parámetro `metric`) se utiliza para comparar y clasificar las pruebas en función de su rendimiento actual.\n",
        "\n",
        "3. Eliminación de Pruebas: Después de un número mínimo de iteraciones (definido por el parámetro `grace_period`), ASHA realiza una ronda de eliminación. En esta ronda, las pruebas con peor rendimiento en la métrica se descartan. La cantidad de pruebas eliminadas en cada ronda se controla mediante el parámetro reduction_factor.\n",
        "\n",
        "4. Repetición de Iteraciones: Las pruebas restantes continúan ejecutándose en las siguientes iteraciones. Se recopilan métricas adicionales, y se repiten las rondas de eliminación hasta que solo quede una prueba o un pequeño número de pruebas.\n",
        "\n",
        "5. Selección del Mejor Modelo: Finalmente, ASHA selecciona la prueba que ha mostrado el mejor rendimiento en la métrica objetivo durante todas las rondas de eliminación. La configuración de hiperparámetros asociada a esta prueba se considera la mejor combinación de hiperparámetros encontrada hasta el momento."
      ]
    },
    {
      "cell_type": "markdown",
      "metadata": {
        "id": "RptCu4X07RgT"
      },
      "source": [
        "Que metrica(s) nos conviene utilizar para parar/eliminar el experimento?\n"
      ]
    },
    {
      "cell_type": "markdown",
      "metadata": {
        "id": "ujpp9lokmO0k"
      },
      "source": [
        "### Codigo"
      ]
    },
    {
      "cell_type": "markdown",
      "metadata": {
        "id": "5YkSYd9UlKmG"
      },
      "source": [
        "`metric` (métrica):  \n",
        "    Este parámetro especifica la métrica que se utilizará como criterio para evaluar el rendimiento de cada ejecución de entrenamiento. En este caso, se está utilizando \"val_accuracy\" como métrica, lo que significa que se está maximizando la precisión en el conjunto de validación.\n",
        "\n",
        "`mode` (modo):  \n",
        "    Este parámetro indica si se debe maximizar o minimizar la métrica especificada. En tu ejemplo, se ha establecido en \"max\", lo que significa que se intentará maximizar la métrica de validación.\n",
        "\n",
        "`max_t` (máximo de iteraciones):  \n",
        "    Este parámetro define el número máximo de iteraciones que una prueba individual puede ejecutarse antes de ser detenida. En este caso, se ha configurado en 10, lo que significa que cada ejecución de prueba (entrenamiento de modelo) se detendrá después de 10 iteraciones.\n",
        "\n",
        "`grace_period` (período de gracia):  \n",
        "    El período de gracia es el número mínimo de iteraciones que se deben ejecutar antes de que una prueba pueda ser detenida por ASHA. En este caso, se ha establecido en 1, lo que significa que una prueba debe ejecutarse al menos una vez antes de que ASHA pueda tomar una decisión sobre si detenerla o no.\n",
        "\n",
        "`reduction_factor` (factor de reducción):  \n",
        "    El factor de reducción es un parámetro que controla cómo ASHA decide cuándo detener las pruebas. ASHA realiza una serie de rondas de eliminación en las que las pruebas menos prometedoras se detienen. El factor de reducción controla cuántas pruebas se eliminan en cada ronda. En este caso, se ha configurado en 2, lo que significa que en cada ronda, ASHA eliminará la mitad de las pruebas menos prometedoras."
      ]
    },
    {
      "cell_type": "code",
      "execution_count": null,
      "metadata": {
        "id": "BmDCLguRkJ0p"
      },
      "outputs": [],
      "source": [
        "from ray.tune.schedulers import ASHAScheduler\n",
        "search_space = {\n",
        "    \"lr\": tune.sample_from(lambda spec: 10 ** (-10 * np.random.rand())),\n",
        "    \"epochs\":3\n",
        "}\n",
        "\n",
        "# Set up the ASHA scheduler\n",
        "asha_scheduler = ASHAScheduler(\n",
        "    metric=\"val_accuracy\", # Metrica a evaluar\n",
        "    mode=\"max\",  # Queremos maximizar\n",
        "    max_t=search_space['epochs'],    # Numero maximo de iteraciones un trial/experimento puede ejecutarse\n",
        "    grace_period=1,  # Numero minimo de ejecuciones\n",
        "    reduction_factor=2 # Modelos eliminados por ronda\n",
        ")\n",
        "\n",
        "analysis = tune.run(\n",
        "    CIFAR10Trainable,\n",
        "    config=search_space,\n",
        "    resources_per_trial=resources_per_trial,\n",
        "    scheduler=asha_scheduler,\n",
        "    num_samples=4,  # Numero de Experimentos\n",
        "    checkpoint_at_end=True\n",
        "\n",
        ")\n"
      ]
    },
    {
      "cell_type": "code",
      "execution_count": null,
      "metadata": {
        "id": "FqnRAwqOtBrY"
      },
      "outputs": [],
      "source": [
        "import pandas as pd\n",
        "import seaborn as sns\n",
        "import matplotlib.pyplot as plt\n",
        "import matplotlib.ticker as mticker\n",
        "\n",
        "def visualize_results(analysis, hyperparameter):\n",
        "    dfs = analysis.trial_dataframes\n",
        "\n",
        "    # Create an empty dataframe to store metrics and hyperparameters\n",
        "    data = []\n",
        "\n",
        "    for trial_str, df in dfs.items():\n",
        "        hyperparam_value = analysis.trial_dataframes[trial_str][hyperparameter].values[0]\n",
        "\n",
        "        for metric in [\"train_accuracy\", \"val_accuracy\", \"test_accuracy\", \"train_loss\", \"val_loss\", \"test_loss\"]:\n",
        "            for idx, value in df[metric].items():\n",
        "                data.append({\n",
        "                    \"iteration\": idx,\n",
        "                    \"metric\": metric,\n",
        "                    hyperparameter: hyperparam_value,\n",
        "                    \"value\": value\n",
        "                })\n",
        "\n",
        "    df = pd.DataFrame(data)\n",
        "    df[['set', 'metrica']] = df['metric'].str.split('_', 1, expand=True)\n",
        "\n",
        "    g = sns.FacetGrid(df, col=\"set\", row=\"metrica\", hue=hyperparameter,\n",
        "                      sharex=True, legend_out=True, sharey='row')\n",
        "    g.map_dataframe(sns.lineplot, x=\"iteration\", y='value')\n",
        "\n",
        "    # Añade la leyenda al gráfico\n",
        "    #g.add_legend(loc='center right')  # Puedes ajustar 'loc' según tu preferencia (por ejemplo, 'upper right', 'lower left', etc.)\n",
        "    legend = plt.legend(loc='upper left',bbox_to_anchor=(1,0.5))\n",
        "    for text in legend.get_texts():\n",
        "        text.set_text(f'{float(text.get_text()):.1e}')\n",
        "    # Ajusta el espaciado entre los gráficos\n",
        "    plt.tight_layout()\n",
        "\n",
        "    # Muestra los gráficos\n",
        "    plt.show()\n",
        "\n",
        "\n"
      ]
    },
    {
      "cell_type": "code",
      "execution_count": null,
      "metadata": {
        "id": "YQZ0VE2YuIbc"
      },
      "outputs": [],
      "source": [
        "visualize_results(analysis, \"lr\")"
      ]
    },
    {
      "cell_type": "code",
      "execution_count": null,
      "metadata": {
        "id": "Xp0ca4n2ON7F"
      },
      "outputs": [],
      "source": [
        "results = evaluate_best_model(analysis, '?', 'max')\n",
        "results"
      ]
    },
    {
      "cell_type": "markdown",
      "metadata": {
        "id": "MyPWAl7c6aiA"
      },
      "source": [
        "## ASHA Scheduler y HyperOpt"
      ]
    },
    {
      "cell_type": "markdown",
      "metadata": {
        "id": "Lr5HMvhZ6kdm"
      },
      "source": [
        "Hasta ahora hemos elegido de manera aleatoria (determinada por la distribucion) los posibles valores de los hyperparametros. Pero podemos mejorar la forma en que les elegimos si utilizamos algoritmos que tomen encuenta los resultados que se van obteniendo de experimentos anteriores.  \n",
        "La idea es utilizar las metricas obtenidas para elegir mejor los hiperparametros. El hyperopt se puede utilizar sin necesidad del scheduler"
      ]
    },
    {
      "cell_type": "markdown",
      "metadata": {
        "id": "mYdKLOss9F-x"
      },
      "source": [
        "Explica en que difieren cada forma de optimzar los hyperparametros, como son diferentes y como pueden convivir?"
      ]
    },
    {
      "cell_type": "code",
      "execution_count": 13,
      "metadata": {
        "id": "wUy8F9-t69BL"
      },
      "outputs": [],
      "source": [
        "from hyperopt import hp\n",
        "from ray.tune.search.hyperopt import HyperOptSearch"
      ]
    },
    {
      "cell_type": "code",
      "execution_count": null,
      "metadata": {
        "id": "EfhrG_Qg6_tG"
      },
      "outputs": [],
      "source": [
        "search_space = {\n",
        "    \"lr\": hp.loguniform(\"lr\", -10, -1),\n",
        "    \"epochs\":3\n",
        "}\n",
        "\n",
        "hyperopt_search = HyperOptSearch(search_space, metric=\"val_accuracy\", mode=\"max\")\n",
        "\n",
        "# Set up the ASHA scheduler\n",
        "asha_scheduler = ASHAScheduler(\n",
        "    metric=\"val_accuracy\", # Metrica a evaluar\n",
        "    mode=\"max\",  # Queremos maximizar\n",
        "    max_t=search_space['epochs'],    # Numero maximo de iteraciones un trial/experimento puede ejecutarse\n",
        "    grace_period=1,  # Numero minimo de ejecuciones\n",
        "    reduction_factor=2 # Modelos eliminados por ronda\n",
        ")\n",
        "\n",
        "analysis = tune.run(\n",
        "    CIFAR10Trainable,\n",
        "    search_alg=hyperopt_search,\n",
        "    resources_per_trial=resources_per_trial,\n",
        "    scheduler=asha_scheduler,\n",
        "    num_samples=4, # Numero de Experimentos\n",
        "    checkpoint_at_end=True\n",
        "\n",
        ")"
      ]
    },
    {
      "cell_type": "code",
      "execution_count": null,
      "metadata": {
        "id": "KrC10-TC9bJb"
      },
      "outputs": [],
      "source": [
        "visualize_results(analysis, \"lr\")"
      ]
    },
    {
      "cell_type": "code",
      "execution_count": null,
      "metadata": {
        "id": "RjaJ1VHJPvti"
      },
      "outputs": [],
      "source": [
        "results = evaluate_best_model(analysis, '?', 'max')\n",
        "results"
      ]
    },
    {
      "cell_type": "markdown",
      "metadata": {
        "id": "w7sWsWEhZLq-"
      },
      "source": [
        "## Full Train"
      ]
    },
    {
      "cell_type": "code",
      "execution_count": 16,
      "metadata": {
        "colab": {
          "base_uri": "https://localhost:8080/"
        },
        "id": "_IaJHBTUZNvH",
        "outputId": "467b399f-c05e-492d-e999-dfc705d53d5e"
      },
      "outputs": [
        {
          "name": "stderr",
          "output_type": "stream",
          "text": [
            "2023-10-23 21:49:18,569\tINFO worker.py:1642 -- Started a local Ray instance.\n",
            "2023-10-23 21:49:20,244\tINFO tune.py:228 -- Initializing Ray automatically. For cluster usage or custom Ray initialization, call `ray.init(...)` before `tune.run(...)`.\n",
            "2023-10-23 21:49:20,252\tINFO tune.py:654 -- [output] This will use the new output engine with verbosity 2. To disable the new output and use the legacy output engine, set the environment variable RAY_AIR_NEW_OUTPUT=0. For more information, please see https://github.com/ray-project/ray/issues/36949\n"
          ]
        },
        {
          "name": "stdout",
          "output_type": "stream",
          "text": [
            "+-------------------------------------------------------------------------+\n",
            "| Configuration for experiment     CIFAR10Trainable_2023-10-23_21-49-20   |\n",
            "+-------------------------------------------------------------------------+\n",
            "| Search algorithm                 SearchGenerator                        |\n",
            "| Scheduler                        AsyncHyperBandScheduler                |\n",
            "| Number of trials                 10                                     |\n",
            "+-------------------------------------------------------------------------+\n",
            "\n",
            "View detailed results here: /root/ray_results/CIFAR10Trainable_2023-10-23_21-49-20\n",
            "To visualize your results with TensorBoard, run: `tensorboard --logdir /root/ray_results/CIFAR10Trainable_2023-10-23_21-49-20`\n",
            "\n",
            "Trial status: 1 PENDING\n",
            "Current time: 2023-10-23 21:49:20. Total running time: 0s\n",
            "Logical resource usage: 0/2 CPUs, 0/1 GPUs (0.0/1.0 accelerator_type:None)\n",
            "+--------------------------------------+\n",
            "| Trial name                  status   |\n",
            "+--------------------------------------+\n",
            "| CIFAR10Trainable_e3cff7f7   PENDING  |\n",
            "+--------------------------------------+\n",
            "\u001b[2m\u001b[36m(CIFAR10Trainable pid=88344)\u001b[0m Files already downloaded and verified\n",
            "\u001b[2m\u001b[36m(CIFAR10Trainable pid=88344)\u001b[0m Files already downloaded and verified\n",
            "\n",
            "Trial CIFAR10Trainable_e3cff7f7 started with configuration:\n",
            "+----------------------------------------------------+\n",
            "| Trial CIFAR10Trainable_e3cff7f7 config             |\n",
            "+----------------------------------------------------+\n",
            "| epochs                                           2 |\n",
            "| lr                                         0.00745 |\n",
            "+----------------------------------------------------+\n",
            "\u001b[2m\u001b[36m(CIFAR10Trainable pid=88427)\u001b[0m Files already downloaded and verified\n",
            "\u001b[2m\u001b[36m(CIFAR10Trainable pid=88427)\u001b[0m Files already downloaded and verified\n",
            "\n",
            "Trial CIFAR10Trainable_74f5fc2c started with configuration:\n",
            "+----------------------------------------------------+\n",
            "| Trial CIFAR10Trainable_74f5fc2c config             |\n",
            "+----------------------------------------------------+\n",
            "| epochs                                           2 |\n",
            "| lr                                         0.01198 |\n",
            "+----------------------------------------------------+\n",
            "\n",
            "Trial status: 2 RUNNING | 1 PENDING\n",
            "Current time: 2023-10-23 21:49:50. Total running time: 30s\n",
            "Logical resource usage: 0/2 CPUs, 1.0/1 GPUs (0.0/1.0 accelerator_type:None)\n",
            "+--------------------------------------+\n",
            "| Trial name                  status   |\n",
            "+--------------------------------------+\n",
            "| CIFAR10Trainable_e3cff7f7   RUNNING  |\n",
            "| CIFAR10Trainable_74f5fc2c   RUNNING  |\n",
            "| CIFAR10Trainable_a6423a04   PENDING  |\n",
            "+--------------------------------------+\n",
            "\n",
            "Trial CIFAR10Trainable_e3cff7f7 finished iteration 1 at 2023-10-23 21:50:14. Total running time: 53s\n",
            "+----------------------------------------------------+\n",
            "| Trial CIFAR10Trainable_e3cff7f7 result             |\n",
            "+----------------------------------------------------+\n",
            "| checkpoint_dir_name                                |\n",
            "| time_this_iter_s                           43.8943 |\n",
            "| time_total_s                               43.8943 |\n",
            "| training_iteration                               1 |\n",
            "| lr                                         0.00745 |\n",
            "| test_accuracy                               0.5979 |\n",
            "| test_loss                                  1.14993 |\n",
            "| train_accuracy                             0.51405 |\n",
            "| train_loss                                 1.34898 |\n",
            "| val_accuracy                                0.5976 |\n",
            "| val_loss                                   1.12917 |\n",
            "+----------------------------------------------------+\n",
            "\n",
            "Trial status: 2 RUNNING | 1 PENDING\n",
            "Current time: 2023-10-23 21:50:20. Total running time: 1min 0s\n",
            "Logical resource usage: 0/2 CPUs, 1.0/1 GPUs (0.0/1.0 accelerator_type:None)\n",
            "+------------------------------------------------------------------------------------------------------------------------------+\n",
            "| Trial name                  status       iter     total time (s)           lr     train_loss     train_accuracy     val_loss |\n",
            "+------------------------------------------------------------------------------------------------------------------------------+\n",
            "| CIFAR10Trainable_e3cff7f7   RUNNING         1            43.8943   0.00745037        1.34898            0.51405      1.12917 |\n",
            "| CIFAR10Trainable_74f5fc2c   RUNNING                                                                                          |\n",
            "| CIFAR10Trainable_a6423a04   PENDING                                                                                          |\n",
            "+------------------------------------------------------------------------------------------------------------------------------+\n",
            "\n",
            "Trial CIFAR10Trainable_74f5fc2c finished iteration 1 at 2023-10-23 21:50:38. Total running time: 1min 18s\n",
            "+----------------------------------------------------+\n",
            "| Trial CIFAR10Trainable_74f5fc2c result             |\n",
            "+----------------------------------------------------+\n",
            "| checkpoint_dir_name                                |\n",
            "| time_this_iter_s                           53.8149 |\n",
            "| time_total_s                               53.8149 |\n",
            "| training_iteration                               1 |\n",
            "| lr                                         0.01198 |\n",
            "| test_accuracy                               0.6122 |\n",
            "| test_loss                                  1.08939 |\n",
            "| train_accuracy                             0.50018 |\n",
            "| train_loss                                 1.37695 |\n",
            "| val_accuracy                                0.6072 |\n",
            "| val_loss                                   1.09743 |\n",
            "+----------------------------------------------------+\n",
            "\n",
            "Trial status: 2 RUNNING | 1 PENDING\n",
            "Current time: 2023-10-23 21:50:50. Total running time: 1min 30s\n",
            "Logical resource usage: 0/2 CPUs, 1.0/1 GPUs (0.0/1.0 accelerator_type:None)\n",
            "+------------------------------------------------------------------------------------------------------------------------------+\n",
            "| Trial name                  status       iter     total time (s)           lr     train_loss     train_accuracy     val_loss |\n",
            "+------------------------------------------------------------------------------------------------------------------------------+\n",
            "| CIFAR10Trainable_e3cff7f7   RUNNING         1            43.8943   0.00745037        1.34898           0.51405       1.12917 |\n",
            "| CIFAR10Trainable_74f5fc2c   RUNNING         1            53.8149   0.0119784         1.37695           0.500175      1.09743 |\n",
            "| CIFAR10Trainable_a6423a04   PENDING                                                                                          |\n",
            "+------------------------------------------------------------------------------------------------------------------------------+\n",
            "\n",
            "Trial CIFAR10Trainable_e3cff7f7 finished iteration 2 at 2023-10-23 21:51:06. Total running time: 1min 45s\n",
            "+----------------------------------------------------+\n",
            "| Trial CIFAR10Trainable_e3cff7f7 result             |\n",
            "+----------------------------------------------------+\n",
            "| checkpoint_dir_name                                |\n",
            "| time_this_iter_s                           51.7783 |\n",
            "| time_total_s                               95.6726 |\n",
            "| training_iteration                               2 |\n",
            "| lr                                         0.00745 |\n",
            "| test_accuracy                               0.6757 |\n",
            "| test_loss                                  0.93056 |\n",
            "| train_accuracy                             0.65838 |\n",
            "| train_loss                                 0.96663 |\n",
            "| val_accuracy                                 0.678 |\n",
            "| val_loss                                   0.91864 |\n",
            "+----------------------------------------------------+\n",
            "Trial CIFAR10Trainable_e3cff7f7 saved a checkpoint for iteration 2 at: (local)/root/ray_results/CIFAR10Trainable_2023-10-23_21-49-20/CIFAR10Trainable_e3cff7f7_1_epochs=2,lr=0.0075_2023-10-23_21-49-20/checkpoint_000000\n",
            "\n",
            "Trial CIFAR10Trainable_e3cff7f7 completed after 2 iterations at 2023-10-23 21:51:06. Total running time: 1min 45s\n"
          ]
        },
        {
          "name": "stderr",
          "output_type": "stream",
          "text": [
            "\u001b[2m\u001b[36m(CIFAR10Trainable pid=88344)\u001b[0m Checkpoint successfully created at: Checkpoint(filesystem=local, path=/root/ray_results/CIFAR10Trainable_2023-10-23_21-49-20/CIFAR10Trainable_e3cff7f7_1_epochs=2,lr=0.0075_2023-10-23_21-49-20/checkpoint_000000)\n"
          ]
        },
        {
          "name": "stdout",
          "output_type": "stream",
          "text": [
            "\u001b[2m\u001b[36m(CIFAR10Trainable pid=88874)\u001b[0m Files already downloaded and verified\n",
            "\u001b[2m\u001b[36m(CIFAR10Trainable pid=88874)\u001b[0m Files already downloaded and verified\n",
            "\n",
            "Trial CIFAR10Trainable_a6423a04 started with configuration:\n",
            "+----------------------------------------------------+\n",
            "| Trial CIFAR10Trainable_a6423a04 config             |\n",
            "+----------------------------------------------------+\n",
            "| epochs                                           2 |\n",
            "| lr                                         0.01066 |\n",
            "+----------------------------------------------------+\n",
            "\n",
            "Trial status: 1 TERMINATED | 2 RUNNING | 1 PENDING\n",
            "Current time: 2023-10-23 21:51:20. Total running time: 2min 0s\n",
            "Logical resource usage: 0/2 CPUs, 1.0/1 GPUs (0.0/1.0 accelerator_type:None)\n",
            "+--------------------------------------------------------------------------------------------------------------------------------+\n",
            "| Trial name                  status         iter     total time (s)           lr     train_loss     train_accuracy     val_loss |\n",
            "+--------------------------------------------------------------------------------------------------------------------------------+\n",
            "| CIFAR10Trainable_74f5fc2c   RUNNING           1            53.8149   0.0119784         1.37695           0.500175      1.09743 |\n",
            "| CIFAR10Trainable_a6423a04   RUNNING                                                                                            |\n",
            "| CIFAR10Trainable_e3cff7f7   TERMINATED        2            95.6726   0.00745037        0.96663           0.658375      0.91864 |\n",
            "| CIFAR10Trainable_4448697e   PENDING                                                                                            |\n",
            "+--------------------------------------------------------------------------------------------------------------------------------+\n",
            "\n",
            "Trial CIFAR10Trainable_74f5fc2c finished iteration 2 at 2023-10-23 21:51:21. Total running time: 2min 0s\n",
            "+----------------------------------------------------+\n",
            "| Trial CIFAR10Trainable_74f5fc2c result             |\n",
            "+----------------------------------------------------+\n",
            "| checkpoint_dir_name                                |\n",
            "| time_this_iter_s                           42.5874 |\n",
            "| time_total_s                               96.4022 |\n",
            "| training_iteration                               2 |\n",
            "| lr                                         0.01198 |\n",
            "| test_accuracy                               0.6823 |\n",
            "| test_loss                                  0.91734 |\n",
            "| train_accuracy                             0.65368 |\n",
            "| train_loss                                 0.98523 |\n",
            "| val_accuracy                                0.6736 |\n",
            "| val_loss                                   0.90642 |\n",
            "+----------------------------------------------------+\n",
            "Trial CIFAR10Trainable_74f5fc2c saved a checkpoint for iteration 2 at: (local)/root/ray_results/CIFAR10Trainable_2023-10-23_21-49-20/CIFAR10Trainable_74f5fc2c_2_epochs=2,lr=0.0120_2023-10-23_21-49-30/checkpoint_000000\n",
            "\n",
            "Trial CIFAR10Trainable_74f5fc2c completed after 2 iterations at 2023-10-23 21:51:22. Total running time: 2min 1s\n"
          ]
        },
        {
          "name": "stderr",
          "output_type": "stream",
          "text": [
            "\u001b[2m\u001b[36m(CIFAR10Trainable pid=88427)\u001b[0m Checkpoint successfully created at: Checkpoint(filesystem=local, path=/root/ray_results/CIFAR10Trainable_2023-10-23_21-49-20/CIFAR10Trainable_74f5fc2c_2_epochs=2,lr=0.0120_2023-10-23_21-49-30/checkpoint_000000)\n"
          ]
        },
        {
          "name": "stdout",
          "output_type": "stream",
          "text": [
            "\u001b[2m\u001b[36m(CIFAR10Trainable pid=88975)\u001b[0m Files already downloaded and verified\n",
            "\u001b[2m\u001b[36m(CIFAR10Trainable pid=88975)\u001b[0m Files already downloaded and verified\n",
            "\n",
            "Trial CIFAR10Trainable_4448697e started with configuration:\n",
            "+----------------------------------------------------+\n",
            "| Trial CIFAR10Trainable_4448697e config             |\n",
            "+----------------------------------------------------+\n",
            "| epochs                                           2 |\n",
            "| lr                                         0.00071 |\n",
            "+----------------------------------------------------+\n",
            "\n",
            "Trial status: 2 TERMINATED | 2 RUNNING | 1 PENDING\n",
            "Current time: 2023-10-23 21:51:51. Total running time: 2min 30s\n",
            "Logical resource usage: 0/2 CPUs, 1.0/1 GPUs (0.0/1.0 accelerator_type:None)\n",
            "+--------------------------------------------------------------------------------------------------------------------------------+\n",
            "| Trial name                  status         iter     total time (s)           lr     train_loss     train_accuracy     val_loss |\n",
            "+--------------------------------------------------------------------------------------------------------------------------------+\n",
            "| CIFAR10Trainable_a6423a04   RUNNING                                                                                            |\n",
            "| CIFAR10Trainable_4448697e   RUNNING                                                                                            |\n",
            "| CIFAR10Trainable_e3cff7f7   TERMINATED        2            95.6726   0.00745037       0.96663            0.658375     0.91864  |\n",
            "| CIFAR10Trainable_74f5fc2c   TERMINATED        2            96.4023   0.0119784        0.985231           0.653675     0.906424 |\n",
            "| CIFAR10Trainable_258fc78e   PENDING                                                                                            |\n",
            "+--------------------------------------------------------------------------------------------------------------------------------+\n",
            "\n",
            "Trial CIFAR10Trainable_a6423a04 finished iteration 1 at 2023-10-23 21:52:09. Total running time: 2min 49s\n",
            "+----------------------------------------------------+\n",
            "| Trial CIFAR10Trainable_a6423a04 result             |\n",
            "+----------------------------------------------------+\n",
            "| checkpoint_dir_name                                |\n",
            "| time_this_iter_s                           49.4423 |\n",
            "| time_total_s                               49.4423 |\n",
            "| training_iteration                               1 |\n",
            "| lr                                         0.01066 |\n",
            "| test_accuracy                               0.5695 |\n",
            "| test_loss                                  1.21181 |\n",
            "| train_accuracy                             0.50815 |\n",
            "| train_loss                                 1.35988 |\n",
            "| val_accuracy                                0.5793 |\n",
            "| val_loss                                   1.20288 |\n",
            "+----------------------------------------------------+\n",
            "Trial CIFAR10Trainable_a6423a04 saved a checkpoint for iteration 1 at: (local)/root/ray_results/CIFAR10Trainable_2023-10-23_21-49-20/CIFAR10Trainable_a6423a04_3_epochs=2,lr=0.0107_2023-10-23_21-49-44/checkpoint_000000\n",
            "\n",
            "Trial CIFAR10Trainable_a6423a04 completed after 1 iterations at 2023-10-23 21:52:09. Total running time: 2min 49s\n"
          ]
        },
        {
          "name": "stderr",
          "output_type": "stream",
          "text": [
            "\u001b[2m\u001b[36m(CIFAR10Trainable pid=88874)\u001b[0m Checkpoint successfully created at: Checkpoint(filesystem=local, path=/root/ray_results/CIFAR10Trainable_2023-10-23_21-49-20/CIFAR10Trainable_a6423a04_3_epochs=2,lr=0.0107_2023-10-23_21-49-44/checkpoint_000000)\n"
          ]
        },
        {
          "name": "stdout",
          "output_type": "stream",
          "text": [
            "\u001b[2m\u001b[36m(CIFAR10Trainable pid=89213)\u001b[0m Files already downloaded and verified\n",
            "\n",
            "Trial status: 3 TERMINATED | 1 RUNNING | 1 PENDING\n",
            "Current time: 2023-10-23 21:52:21. Total running time: 3min 0s\n",
            "Logical resource usage: 0/2 CPUs, 1.0/1 GPUs (0.0/1.0 accelerator_type:None)\n",
            "+--------------------------------------------------------------------------------------------------------------------------------+\n",
            "| Trial name                  status         iter     total time (s)           lr     train_loss     train_accuracy     val_loss |\n",
            "+--------------------------------------------------------------------------------------------------------------------------------+\n",
            "| CIFAR10Trainable_4448697e   RUNNING                                                                                            |\n",
            "| CIFAR10Trainable_e3cff7f7   TERMINATED        2            95.6726   0.00745037       0.96663            0.658375     0.91864  |\n",
            "| CIFAR10Trainable_74f5fc2c   TERMINATED        2            96.4023   0.0119784        0.985231           0.653675     0.906424 |\n",
            "| CIFAR10Trainable_a6423a04   TERMINATED        1            49.4423   0.0106638        1.35988            0.50815      1.20288  |\n",
            "| CIFAR10Trainable_258fc78e   PENDING                                                                                            |\n",
            "+--------------------------------------------------------------------------------------------------------------------------------+\n",
            "\u001b[2m\u001b[36m(CIFAR10Trainable pid=89213)\u001b[0m Files already downloaded and verified\n",
            "\n",
            "Trial CIFAR10Trainable_4448697e finished iteration 1 at 2023-10-23 21:52:22. Total running time: 3min 2s\n",
            "+----------------------------------------------------+\n",
            "| Trial CIFAR10Trainable_4448697e result             |\n",
            "+----------------------------------------------------+\n",
            "| checkpoint_dir_name                                |\n",
            "| time_this_iter_s                            44.609 |\n",
            "| time_total_s                                44.609 |\n",
            "| training_iteration                               1 |\n",
            "| lr                                         0.00071 |\n",
            "| test_accuracy                               0.6478 |\n",
            "| test_loss                                  1.01525 |\n",
            "| train_accuracy                             0.56342 |\n",
            "| train_loss                                 1.24869 |\n",
            "| val_accuracy                                0.6369 |\n",
            "| val_loss                                   1.02879 |\n",
            "+----------------------------------------------------+\n",
            "\n",
            "Trial CIFAR10Trainable_258fc78e started with configuration:\n",
            "+----------------------------------------------------+\n",
            "| Trial CIFAR10Trainable_258fc78e config             |\n",
            "+----------------------------------------------------+\n",
            "| epochs                                           2 |\n",
            "| lr                                         0.00023 |\n",
            "+----------------------------------------------------+\n",
            "\n",
            "Trial status: 3 TERMINATED | 2 RUNNING | 1 PENDING\n",
            "Current time: 2023-10-23 21:52:51. Total running time: 3min 30s\n",
            "Logical resource usage: 0/2 CPUs, 1.0/1 GPUs (0.0/1.0 accelerator_type:None)\n",
            "+---------------------------------------------------------------------------------------------------------------------------------+\n",
            "| Trial name                  status         iter     total time (s)            lr     train_loss     train_accuracy     val_loss |\n",
            "+---------------------------------------------------------------------------------------------------------------------------------+\n",
            "| CIFAR10Trainable_4448697e   RUNNING           1            44.609    0.000707701       1.24869            0.563425     1.02879  |\n",
            "| CIFAR10Trainable_258fc78e   RUNNING                                                                                             |\n",
            "| CIFAR10Trainable_e3cff7f7   TERMINATED        2            95.6726   0.00745037        0.96663            0.658375     0.91864  |\n",
            "| CIFAR10Trainable_74f5fc2c   TERMINATED        2            96.4023   0.0119784         0.985231           0.653675     0.906424 |\n",
            "| CIFAR10Trainable_a6423a04   TERMINATED        1            49.4423   0.0106638         1.35988            0.50815      1.20288  |\n",
            "| CIFAR10Trainable_cd686066   PENDING                                                                                             |\n",
            "+---------------------------------------------------------------------------------------------------------------------------------+\n",
            "\n",
            "Trial CIFAR10Trainable_4448697e finished iteration 2 at 2023-10-23 21:53:03. Total running time: 3min 42s\n",
            "+----------------------------------------------------+\n",
            "| Trial CIFAR10Trainable_4448697e result             |\n",
            "+----------------------------------------------------+\n",
            "| checkpoint_dir_name                                |\n",
            "| time_this_iter_s                           40.3479 |\n",
            "| time_total_s                               84.9569 |\n",
            "| training_iteration                               2 |\n",
            "| lr                                         0.00071 |\n",
            "| test_accuracy                               0.6916 |\n",
            "| test_loss                                  0.87931 |\n",
            "| train_accuracy                              0.6897 |\n",
            "| train_loss                                 0.88072 |\n",
            "| val_accuracy                                0.6892 |\n",
            "| val_loss                                   0.88224 |\n",
            "+----------------------------------------------------+\n",
            "Trial CIFAR10Trainable_4448697e saved a checkpoint for iteration 2 at: (local)/root/ray_results/CIFAR10Trainable_2023-10-23_21-49-20/CIFAR10Trainable_4448697e_4_epochs=2,lr=0.0007_2023-10-23_21-51-20/checkpoint_000000\n",
            "\n",
            "Trial CIFAR10Trainable_4448697e completed after 2 iterations at 2023-10-23 21:53:03. Total running time: 3min 42s\n"
          ]
        },
        {
          "name": "stderr",
          "output_type": "stream",
          "text": [
            "\u001b[2m\u001b[36m(CIFAR10Trainable pid=88975)\u001b[0m Checkpoint successfully created at: Checkpoint(filesystem=local, path=/root/ray_results/CIFAR10Trainable_2023-10-23_21-49-20/CIFAR10Trainable_4448697e_4_epochs=2,lr=0.0007_2023-10-23_21-51-20/checkpoint_000000)\n"
          ]
        },
        {
          "name": "stdout",
          "output_type": "stream",
          "text": [
            "\n",
            "Trial CIFAR10Trainable_258fc78e finished iteration 1 at 2023-10-23 21:53:10. Total running time: 3min 49s\n",
            "+----------------------------------------------------+\n",
            "| Trial CIFAR10Trainable_258fc78e result             |\n",
            "+----------------------------------------------------+\n",
            "| checkpoint_dir_name                                |\n",
            "| time_this_iter_s                           45.7939 |\n",
            "| time_total_s                               45.7939 |\n",
            "| training_iteration                               1 |\n",
            "| lr                                         0.00023 |\n",
            "| test_accuracy                               0.6349 |\n",
            "| test_loss                                  1.05404 |\n",
            "| train_accuracy                              0.5484 |\n",
            "| train_loss                                 1.32596 |\n",
            "| val_accuracy                                0.6291 |\n",
            "| val_loss                                   1.06445 |\n",
            "+----------------------------------------------------+\n",
            "\u001b[2m\u001b[36m(CIFAR10Trainable pid=89472)\u001b[0m Files already downloaded and verified\n",
            "\u001b[2m\u001b[36m(CIFAR10Trainable pid=89472)\u001b[0m Files already downloaded and verified\n",
            "\n",
            "Trial CIFAR10Trainable_cd686066 started with configuration:\n",
            "+----------------------------------------------------+\n",
            "| Trial CIFAR10Trainable_cd686066 config             |\n",
            "+----------------------------------------------------+\n",
            "| epochs                                           2 |\n",
            "| lr                                         0.00033 |\n",
            "+----------------------------------------------------+\n",
            "\n",
            "Trial status: 4 TERMINATED | 2 RUNNING | 1 PENDING\n",
            "Current time: 2023-10-23 21:53:21. Total running time: 4min 0s\n",
            "Logical resource usage: 0/2 CPUs, 1.0/1 GPUs (0.0/1.0 accelerator_type:None)\n",
            "+---------------------------------------------------------------------------------------------------------------------------------+\n",
            "| Trial name                  status         iter     total time (s)            lr     train_loss     train_accuracy     val_loss |\n",
            "+---------------------------------------------------------------------------------------------------------------------------------+\n",
            "| CIFAR10Trainable_258fc78e   RUNNING           1            45.7939   0.00023239        1.32596            0.5484       1.06445  |\n",
            "| CIFAR10Trainable_cd686066   RUNNING                                                                                             |\n",
            "| CIFAR10Trainable_e3cff7f7   TERMINATED        2            95.6726   0.00745037        0.96663            0.658375     0.91864  |\n",
            "| CIFAR10Trainable_74f5fc2c   TERMINATED        2            96.4023   0.0119784         0.985231           0.653675     0.906424 |\n",
            "| CIFAR10Trainable_a6423a04   TERMINATED        1            49.4423   0.0106638         1.35988            0.50815      1.20288  |\n",
            "| CIFAR10Trainable_4448697e   TERMINATED        2            84.9569   0.000707701       0.880719           0.6897       0.882243 |\n",
            "| CIFAR10Trainable_f3d11d92   PENDING                                                                                             |\n",
            "+---------------------------------------------------------------------------------------------------------------------------------+\n",
            "\n",
            "Trial CIFAR10Trainable_258fc78e finished iteration 2 at 2023-10-23 21:53:49. Total running time: 4min 29s\n",
            "+----------------------------------------------------+\n",
            "| Trial CIFAR10Trainable_258fc78e result             |\n",
            "+----------------------------------------------------+\n",
            "| checkpoint_dir_name                                |\n",
            "| time_this_iter_s                           39.5677 |\n",
            "| time_total_s                               85.3616 |\n",
            "| training_iteration                               2 |\n",
            "| lr                                         0.00023 |\n",
            "| test_accuracy                               0.6906 |\n",
            "| test_loss                                  0.88773 |\n",
            "| train_accuracy                              0.6848 |\n",
            "| train_loss                                 0.91633 |\n",
            "| val_accuracy                                0.6825 |\n",
            "| val_loss                                   0.89999 |\n",
            "+----------------------------------------------------+\n",
            "Trial CIFAR10Trainable_258fc78e saved a checkpoint for iteration 2 at: (local)/root/ray_results/CIFAR10Trainable_2023-10-23_21-49-20/CIFAR10Trainable_258fc78e_5_epochs=2,lr=0.0002_2023-10-23_21-51-38/checkpoint_000000\n",
            "\n",
            "Trial CIFAR10Trainable_258fc78e completed after 2 iterations at 2023-10-23 21:53:49. Total running time: 4min 29s\n"
          ]
        },
        {
          "name": "stderr",
          "output_type": "stream",
          "text": [
            "\u001b[2m\u001b[36m(CIFAR10Trainable pid=89213)\u001b[0m Checkpoint successfully created at: Checkpoint(filesystem=local, path=/root/ray_results/CIFAR10Trainable_2023-10-23_21-49-20/CIFAR10Trainable_258fc78e_5_epochs=2,lr=0.0002_2023-10-23_21-51-38/checkpoint_000000)\n"
          ]
        },
        {
          "name": "stdout",
          "output_type": "stream",
          "text": [
            "\n",
            "Trial status: 5 TERMINATED | 1 RUNNING | 1 PENDING\n",
            "Current time: 2023-10-23 21:53:51. Total running time: 4min 30s\n",
            "Logical resource usage: 0/2 CPUs, 1.0/1 GPUs (0.0/1.0 accelerator_type:None)\n",
            "+---------------------------------------------------------------------------------------------------------------------------------+\n",
            "| Trial name                  status         iter     total time (s)            lr     train_loss     train_accuracy     val_loss |\n",
            "+---------------------------------------------------------------------------------------------------------------------------------+\n",
            "| CIFAR10Trainable_cd686066   RUNNING                                                                                             |\n",
            "| CIFAR10Trainable_e3cff7f7   TERMINATED        2            95.6726   0.00745037        0.96663            0.658375     0.91864  |\n",
            "| CIFAR10Trainable_74f5fc2c   TERMINATED        2            96.4023   0.0119784         0.985231           0.653675     0.906424 |\n",
            "| CIFAR10Trainable_a6423a04   TERMINATED        1            49.4423   0.0106638         1.35988            0.50815      1.20288  |\n",
            "| CIFAR10Trainable_4448697e   TERMINATED        2            84.9569   0.000707701       0.880719           0.6897       0.882243 |\n",
            "| CIFAR10Trainable_258fc78e   TERMINATED        2            85.3616   0.00023239        0.916326           0.6848       0.899986 |\n",
            "| CIFAR10Trainable_f3d11d92   PENDING                                                                                             |\n",
            "+---------------------------------------------------------------------------------------------------------------------------------+\n",
            "\u001b[2m\u001b[36m(CIFAR10Trainable pid=89703)\u001b[0m Files already downloaded and verified\n",
            "\u001b[2m\u001b[36m(CIFAR10Trainable pid=89703)\u001b[0m Files already downloaded and verified\n",
            "\n",
            "Trial CIFAR10Trainable_cd686066 finished iteration 1 at 2023-10-23 21:54:02. Total running time: 4min 41s\n",
            "+----------------------------------------------------+\n",
            "| Trial CIFAR10Trainable_cd686066 result             |\n",
            "+----------------------------------------------------+\n",
            "| checkpoint_dir_name                                |\n",
            "| time_this_iter_s                           45.6459 |\n",
            "| time_total_s                               45.6459 |\n",
            "| training_iteration                               1 |\n",
            "| lr                                         0.00033 |\n",
            "| test_accuracy                               0.6205 |\n",
            "| test_loss                                  1.08443 |\n",
            "| train_accuracy                              0.5545 |\n",
            "| train_loss                                 1.28903 |\n",
            "| val_accuracy                                0.6211 |\n",
            "| val_loss                                   1.07734 |\n",
            "+----------------------------------------------------+\n",
            "\n",
            "Trial CIFAR10Trainable_f3d11d92 started with configuration:\n",
            "+----------------------------------------------------+\n",
            "| Trial CIFAR10Trainable_f3d11d92 config             |\n",
            "+----------------------------------------------------+\n",
            "| epochs                                           2 |\n",
            "| lr                                         0.14317 |\n",
            "+----------------------------------------------------+\n",
            "\n",
            "Trial status: 5 TERMINATED | 2 RUNNING | 1 PENDING\n",
            "Current time: 2023-10-23 21:54:21. Total running time: 5min 0s\n",
            "Logical resource usage: 0/2 CPUs, 1.0/1 GPUs (0.0/1.0 accelerator_type:None)\n",
            "+---------------------------------------------------------------------------------------------------------------------------------+\n",
            "| Trial name                  status         iter     total time (s)            lr     train_loss     train_accuracy     val_loss |\n",
            "+---------------------------------------------------------------------------------------------------------------------------------+\n",
            "| CIFAR10Trainable_cd686066   RUNNING           1            45.6459   0.000334648       1.28903            0.5545       1.07734  |\n",
            "| CIFAR10Trainable_f3d11d92   RUNNING                                                                                             |\n",
            "| CIFAR10Trainable_e3cff7f7   TERMINATED        2            95.6726   0.00745037        0.96663            0.658375     0.91864  |\n",
            "| CIFAR10Trainable_74f5fc2c   TERMINATED        2            96.4023   0.0119784         0.985231           0.653675     0.906424 |\n",
            "| CIFAR10Trainable_a6423a04   TERMINATED        1            49.4423   0.0106638         1.35988            0.50815      1.20288  |\n",
            "| CIFAR10Trainable_4448697e   TERMINATED        2            84.9569   0.000707701       0.880719           0.6897       0.882243 |\n",
            "| CIFAR10Trainable_258fc78e   TERMINATED        2            85.3616   0.00023239        0.916326           0.6848       0.899986 |\n",
            "| CIFAR10Trainable_157c073c   PENDING                                                                                             |\n",
            "+---------------------------------------------------------------------------------------------------------------------------------+\n",
            "\n",
            "Trial CIFAR10Trainable_cd686066 finished iteration 2 at 2023-10-23 21:54:45. Total running time: 5min 25s\n",
            "+----------------------------------------------------+\n",
            "| Trial CIFAR10Trainable_cd686066 result             |\n",
            "+----------------------------------------------------+\n",
            "| checkpoint_dir_name                                |\n",
            "| time_this_iter_s                           43.7196 |\n",
            "| time_total_s                               89.3655 |\n",
            "| training_iteration                               2 |\n",
            "| lr                                         0.00033 |\n",
            "| test_accuracy                               0.6615 |\n",
            "| test_loss                                  0.95973 |\n",
            "| train_accuracy                             0.68583 |\n",
            "| train_loss                                 0.90347 |\n",
            "| val_accuracy                                0.6581 |\n",
            "| val_loss                                   0.96619 |\n",
            "+----------------------------------------------------+\n",
            "Trial CIFAR10Trainable_cd686066 saved a checkpoint for iteration 2 at: (local)/root/ray_results/CIFAR10Trainable_2023-10-23_21-49-20/CIFAR10Trainable_cd686066_6_epochs=2,lr=0.0003_2023-10-23_21-52-24/checkpoint_000000\n",
            "\n",
            "Trial CIFAR10Trainable_cd686066 completed after 2 iterations at 2023-10-23 21:54:45. Total running time: 5min 25s\n"
          ]
        },
        {
          "name": "stderr",
          "output_type": "stream",
          "text": [
            "\u001b[2m\u001b[36m(CIFAR10Trainable pid=89472)\u001b[0m Checkpoint successfully created at: Checkpoint(filesystem=local, path=/root/ray_results/CIFAR10Trainable_2023-10-23_21-49-20/CIFAR10Trainable_cd686066_6_epochs=2,lr=0.0003_2023-10-23_21-52-24/checkpoint_000000)\n"
          ]
        },
        {
          "name": "stdout",
          "output_type": "stream",
          "text": [
            "\n",
            "Trial status: 6 TERMINATED | 1 RUNNING | 1 PENDING\n",
            "Current time: 2023-10-23 21:54:51. Total running time: 5min 30s\n",
            "Logical resource usage: 0/2 CPUs, 1.0/1 GPUs (0.0/1.0 accelerator_type:None)\n",
            "+---------------------------------------------------------------------------------------------------------------------------------+\n",
            "| Trial name                  status         iter     total time (s)            lr     train_loss     train_accuracy     val_loss |\n",
            "+---------------------------------------------------------------------------------------------------------------------------------+\n",
            "| CIFAR10Trainable_f3d11d92   RUNNING                                                                                             |\n",
            "| CIFAR10Trainable_e3cff7f7   TERMINATED        2            95.6726   0.00745037        0.96663            0.658375     0.91864  |\n",
            "| CIFAR10Trainable_74f5fc2c   TERMINATED        2            96.4023   0.0119784         0.985231           0.653675     0.906424 |\n",
            "| CIFAR10Trainable_a6423a04   TERMINATED        1            49.4423   0.0106638         1.35988            0.50815      1.20288  |\n",
            "| CIFAR10Trainable_4448697e   TERMINATED        2            84.9569   0.000707701       0.880719           0.6897       0.882243 |\n",
            "| CIFAR10Trainable_258fc78e   TERMINATED        2            85.3616   0.00023239        0.916326           0.6848       0.899986 |\n",
            "| CIFAR10Trainable_cd686066   TERMINATED        2            89.3655   0.000334648       0.903468           0.685825     0.966193 |\n",
            "| CIFAR10Trainable_157c073c   PENDING                                                                                             |\n",
            "+---------------------------------------------------------------------------------------------------------------------------------+\n",
            "\n",
            "Trial CIFAR10Trainable_f3d11d92 finished iteration 1 at 2023-10-23 21:54:54. Total running time: 5min 34s\n",
            "+----------------------------------------------------+\n",
            "| Trial CIFAR10Trainable_f3d11d92 result             |\n",
            "+----------------------------------------------------+\n",
            "| checkpoint_dir_name                                |\n",
            "| time_this_iter_s                           49.8288 |\n",
            "| time_total_s                               49.8288 |\n",
            "| training_iteration                               1 |\n",
            "| lr                                         0.14317 |\n",
            "| test_accuracy                               0.5056 |\n",
            "| test_loss                                  1.39744 |\n",
            "| train_accuracy                             0.41195 |\n",
            "| train_loss                                 1.60672 |\n",
            "| val_accuracy                                0.5082 |\n",
            "| val_loss                                   1.41895 |\n",
            "+----------------------------------------------------+\n",
            "Trial CIFAR10Trainable_f3d11d92 saved a checkpoint for iteration 1 at: (local)/root/ray_results/CIFAR10Trainable_2023-10-23_21-49-20/CIFAR10Trainable_f3d11d92_7_epochs=2,lr=0.1432_2023-10-23_21-53-16/checkpoint_000000\n",
            "\n",
            "Trial CIFAR10Trainable_f3d11d92 completed after 1 iterations at 2023-10-23 21:54:54. Total running time: 5min 34s\n"
          ]
        },
        {
          "name": "stderr",
          "output_type": "stream",
          "text": [
            "\u001b[2m\u001b[36m(CIFAR10Trainable pid=89703)\u001b[0m Checkpoint successfully created at: Checkpoint(filesystem=local, path=/root/ray_results/CIFAR10Trainable_2023-10-23_21-49-20/CIFAR10Trainable_f3d11d92_7_epochs=2,lr=0.1432_2023-10-23_21-53-16/checkpoint_000000)\n"
          ]
        },
        {
          "name": "stdout",
          "output_type": "stream",
          "text": [
            "\u001b[2m\u001b[36m(CIFAR10Trainable pid=89974)\u001b[0m Files already downloaded and verified\n",
            "\u001b[2m\u001b[36m(CIFAR10Trainable pid=89974)\u001b[0m Files already downloaded and verified\n",
            "\n",
            "Trial CIFAR10Trainable_157c073c started with configuration:\n",
            "+----------------------------------------------------+\n",
            "| Trial CIFAR10Trainable_157c073c config             |\n",
            "+----------------------------------------------------+\n",
            "| epochs                                           2 |\n",
            "| lr                                         0.00083 |\n",
            "+----------------------------------------------------+\n",
            "\u001b[2m\u001b[36m(CIFAR10Trainable pid=90055)\u001b[0m Files already downloaded and verified\n",
            "\u001b[2m\u001b[36m(CIFAR10Trainable pid=90055)\u001b[0m Files already downloaded and verified\n",
            "\n",
            "Trial CIFAR10Trainable_5e1a8ce8 started with configuration:\n",
            "+----------------------------------------------------+\n",
            "| Trial CIFAR10Trainable_5e1a8ce8 config             |\n",
            "+----------------------------------------------------+\n",
            "| epochs                                           2 |\n",
            "| lr                                         0.00019 |\n",
            "+----------------------------------------------------+\n",
            "\n",
            "Trial status: 7 TERMINATED | 2 RUNNING | 1 PENDING\n",
            "Current time: 2023-10-23 21:55:21. Total running time: 6min 0s\n",
            "Logical resource usage: 0/2 CPUs, 1.0/1 GPUs (0.0/1.0 accelerator_type:None)\n",
            "+---------------------------------------------------------------------------------------------------------------------------------+\n",
            "| Trial name                  status         iter     total time (s)            lr     train_loss     train_accuracy     val_loss |\n",
            "+---------------------------------------------------------------------------------------------------------------------------------+\n",
            "| CIFAR10Trainable_157c073c   RUNNING                                                                                             |\n",
            "| CIFAR10Trainable_5e1a8ce8   RUNNING                                                                                             |\n",
            "| CIFAR10Trainable_e3cff7f7   TERMINATED        2            95.6726   0.00745037        0.96663            0.658375     0.91864  |\n",
            "| CIFAR10Trainable_74f5fc2c   TERMINATED        2            96.4023   0.0119784         0.985231           0.653675     0.906424 |\n",
            "| CIFAR10Trainable_a6423a04   TERMINATED        1            49.4423   0.0106638         1.35988            0.50815      1.20288  |\n",
            "| CIFAR10Trainable_4448697e   TERMINATED        2            84.9569   0.000707701       0.880719           0.6897       0.882243 |\n",
            "| CIFAR10Trainable_258fc78e   TERMINATED        2            85.3616   0.00023239        0.916326           0.6848       0.899986 |\n",
            "| CIFAR10Trainable_cd686066   TERMINATED        2            89.3655   0.000334648       0.903468           0.685825     0.966193 |\n",
            "| CIFAR10Trainable_f3d11d92   TERMINATED        1            49.8288   0.14317           1.60672            0.41195      1.41895  |\n",
            "| CIFAR10Trainable_b294ba49   PENDING                                                                                             |\n",
            "+---------------------------------------------------------------------------------------------------------------------------------+\n",
            "\n",
            "Trial CIFAR10Trainable_157c073c finished iteration 1 at 2023-10-23 21:55:40. Total running time: 6min 20s\n",
            "+----------------------------------------------------+\n",
            "| Trial CIFAR10Trainable_157c073c result             |\n",
            "+----------------------------------------------------+\n",
            "| checkpoint_dir_name                                |\n",
            "| time_this_iter_s                           42.7909 |\n",
            "| time_total_s                               42.7909 |\n",
            "| training_iteration                               1 |\n",
            "| lr                                         0.00083 |\n",
            "| test_accuracy                               0.6437 |\n",
            "| test_loss                                  1.01686 |\n",
            "| train_accuracy                             0.55668 |\n",
            "| train_loss                                 1.25494 |\n",
            "| val_accuracy                                0.6426 |\n",
            "| val_loss                                   1.02884 |\n",
            "+----------------------------------------------------+\n",
            "\n",
            "Trial status: 7 TERMINATED | 2 RUNNING | 1 PENDING\n",
            "Current time: 2023-10-23 21:55:51. Total running time: 6min 30s\n",
            "Logical resource usage: 0/2 CPUs, 1.0/1 GPUs (0.0/1.0 accelerator_type:None)\n",
            "+---------------------------------------------------------------------------------------------------------------------------------+\n",
            "| Trial name                  status         iter     total time (s)            lr     train_loss     train_accuracy     val_loss |\n",
            "+---------------------------------------------------------------------------------------------------------------------------------+\n",
            "| CIFAR10Trainable_157c073c   RUNNING           1            42.7909   0.000828533       1.25494            0.556675     1.02884  |\n",
            "| CIFAR10Trainable_5e1a8ce8   RUNNING                                                                                             |\n",
            "| CIFAR10Trainable_e3cff7f7   TERMINATED        2            95.6726   0.00745037        0.96663            0.658375     0.91864  |\n",
            "| CIFAR10Trainable_74f5fc2c   TERMINATED        2            96.4023   0.0119784         0.985231           0.653675     0.906424 |\n",
            "| CIFAR10Trainable_a6423a04   TERMINATED        1            49.4423   0.0106638         1.35988            0.50815      1.20288  |\n",
            "| CIFAR10Trainable_4448697e   TERMINATED        2            84.9569   0.000707701       0.880719           0.6897       0.882243 |\n",
            "| CIFAR10Trainable_258fc78e   TERMINATED        2            85.3616   0.00023239        0.916326           0.6848       0.899986 |\n",
            "| CIFAR10Trainable_cd686066   TERMINATED        2            89.3655   0.000334648       0.903468           0.685825     0.966193 |\n",
            "| CIFAR10Trainable_f3d11d92   TERMINATED        1            49.8288   0.14317           1.60672            0.41195      1.41895  |\n",
            "| CIFAR10Trainable_b294ba49   PENDING                                                                                             |\n",
            "+---------------------------------------------------------------------------------------------------------------------------------+\n",
            "\n",
            "Trial CIFAR10Trainable_5e1a8ce8 finished iteration 1 at 2023-10-23 21:55:52. Total running time: 6min 31s\n",
            "+----------------------------------------------------+\n",
            "| Trial CIFAR10Trainable_5e1a8ce8 result             |\n",
            "+----------------------------------------------------+\n",
            "| checkpoint_dir_name                                |\n",
            "| time_this_iter_s                           41.0126 |\n",
            "| time_total_s                               41.0126 |\n",
            "| training_iteration                               1 |\n",
            "| lr                                         0.00019 |\n",
            "| test_accuracy                               0.6325 |\n",
            "| test_loss                                  1.07828 |\n",
            "| train_accuracy                             0.53668 |\n",
            "| train_loss                                 1.36506 |\n",
            "| val_accuracy                                0.6382 |\n",
            "| val_loss                                   1.07456 |\n",
            "+----------------------------------------------------+\n",
            "\n",
            "Trial CIFAR10Trainable_157c073c finished iteration 2 at 2023-10-23 21:56:18. Total running time: 6min 58s\n",
            "+----------------------------------------------------+\n",
            "| Trial CIFAR10Trainable_157c073c result             |\n",
            "+----------------------------------------------------+\n",
            "| checkpoint_dir_name                                |\n",
            "| time_this_iter_s                           37.5896 |\n",
            "| time_total_s                               80.3805 |\n",
            "| training_iteration                               2 |\n",
            "| lr                                         0.00083 |\n",
            "| test_accuracy                               0.6993 |\n",
            "| test_loss                                  0.85734 |\n",
            "| train_accuracy                             0.68627 |\n",
            "| train_loss                                 0.89192 |\n",
            "| val_accuracy                                0.6987 |\n",
            "| val_loss                                    0.8508 |\n",
            "+----------------------------------------------------+\n",
            "Trial CIFAR10Trainable_157c073c saved a checkpoint for iteration 2 at: (local)/root/ray_results/CIFAR10Trainable_2023-10-23_21-49-20/CIFAR10Trainable_157c073c_8_epochs=2,lr=0.0008_2023-10-23_21-54-04/checkpoint_000000\n",
            "\n",
            "Trial CIFAR10Trainable_157c073c completed after 2 iterations at 2023-10-23 21:56:18. Total running time: 6min 58s\n"
          ]
        },
        {
          "name": "stderr",
          "output_type": "stream",
          "text": [
            "\u001b[2m\u001b[36m(CIFAR10Trainable pid=89974)\u001b[0m Checkpoint successfully created at: Checkpoint(filesystem=local, path=/root/ray_results/CIFAR10Trainable_2023-10-23_21-49-20/CIFAR10Trainable_157c073c_8_epochs=2,lr=0.0008_2023-10-23_21-54-04/checkpoint_000000)\n"
          ]
        },
        {
          "name": "stdout",
          "output_type": "stream",
          "text": [
            "\n",
            "Trial status: 8 TERMINATED | 1 RUNNING | 1 PENDING\n",
            "Current time: 2023-10-23 21:56:21. Total running time: 7min 1s\n",
            "Logical resource usage: 0/2 CPUs, 1.0/1 GPUs (0.0/1.0 accelerator_type:None)\n",
            "+---------------------------------------------------------------------------------------------------------------------------------+\n",
            "| Trial name                  status         iter     total time (s)            lr     train_loss     train_accuracy     val_loss |\n",
            "+---------------------------------------------------------------------------------------------------------------------------------+\n",
            "| CIFAR10Trainable_5e1a8ce8   RUNNING           1            41.0126   0.00019063        1.36506            0.536675     1.07456  |\n",
            "| CIFAR10Trainable_e3cff7f7   TERMINATED        2            95.6726   0.00745037        0.96663            0.658375     0.91864  |\n",
            "| CIFAR10Trainable_74f5fc2c   TERMINATED        2            96.4023   0.0119784         0.985231           0.653675     0.906424 |\n",
            "| CIFAR10Trainable_a6423a04   TERMINATED        1            49.4423   0.0106638         1.35988            0.50815      1.20288  |\n",
            "| CIFAR10Trainable_4448697e   TERMINATED        2            84.9569   0.000707701       0.880719           0.6897       0.882243 |\n",
            "| CIFAR10Trainable_258fc78e   TERMINATED        2            85.3616   0.00023239        0.916326           0.6848       0.899986 |\n",
            "| CIFAR10Trainable_cd686066   TERMINATED        2            89.3655   0.000334648       0.903468           0.685825     0.966193 |\n",
            "| CIFAR10Trainable_f3d11d92   TERMINATED        1            49.8288   0.14317           1.60672            0.41195      1.41895  |\n",
            "| CIFAR10Trainable_157c073c   TERMINATED        2            80.3805   0.000828533       0.891922           0.686275     0.850796 |\n",
            "| CIFAR10Trainable_b294ba49   PENDING                                                                                             |\n",
            "+---------------------------------------------------------------------------------------------------------------------------------+\n",
            "\u001b[2m\u001b[36m(CIFAR10Trainable pid=90435)\u001b[0m Files already downloaded and verified\n",
            "\u001b[2m\u001b[36m(CIFAR10Trainable pid=90435)\u001b[0m Files already downloaded and verified\n",
            "\n",
            "Trial CIFAR10Trainable_5e1a8ce8 finished iteration 2 at 2023-10-23 21:56:30. Total running time: 7min 10s\n",
            "+----------------------------------------------------+\n",
            "| Trial CIFAR10Trainable_5e1a8ce8 result             |\n",
            "+----------------------------------------------------+\n",
            "| checkpoint_dir_name                                |\n",
            "| time_this_iter_s                            38.518 |\n",
            "| time_total_s                               79.5306 |\n",
            "| training_iteration                               2 |\n",
            "| lr                                         0.00019 |\n",
            "| test_accuracy                               0.6826 |\n",
            "| test_loss                                   0.9208 |\n",
            "| train_accuracy                              0.6762 |\n",
            "| train_loss                                 0.94841 |\n",
            "| val_accuracy                                0.6833 |\n",
            "| val_loss                                   0.91535 |\n",
            "+----------------------------------------------------+\n",
            "Trial CIFAR10Trainable_5e1a8ce8 saved a checkpoint for iteration 2 at: (local)/root/ray_results/CIFAR10Trainable_2023-10-23_21-49-20/CIFAR10Trainable_5e1a8ce8_9_epochs=2,lr=0.0002_2023-10-23_21-54-58/checkpoint_000000\n",
            "\n",
            "Trial CIFAR10Trainable_5e1a8ce8 completed after 2 iterations at 2023-10-23 21:56:31. Total running time: 7min 10s\n"
          ]
        },
        {
          "name": "stderr",
          "output_type": "stream",
          "text": [
            "\u001b[2m\u001b[36m(CIFAR10Trainable pid=90055)\u001b[0m Checkpoint successfully created at: Checkpoint(filesystem=local, path=/root/ray_results/CIFAR10Trainable_2023-10-23_21-49-20/CIFAR10Trainable_5e1a8ce8_9_epochs=2,lr=0.0002_2023-10-23_21-54-58/checkpoint_000000)\n"
          ]
        },
        {
          "name": "stdout",
          "output_type": "stream",
          "text": [
            "\n",
            "Trial CIFAR10Trainable_b294ba49 started with configuration:\n",
            "+----------------------------------------------------+\n",
            "| Trial CIFAR10Trainable_b294ba49 config             |\n",
            "+----------------------------------------------------+\n",
            "| epochs                                           2 |\n",
            "| lr                                         0.00582 |\n",
            "+----------------------------------------------------+\n",
            "\n",
            "Trial status: 9 TERMINATED | 1 RUNNING\n",
            "Current time: 2023-10-23 21:56:51. Total running time: 7min 31s\n",
            "Logical resource usage: 0/2 CPUs, 0.5/1 GPUs (0.0/1.0 accelerator_type:None)\n",
            "+---------------------------------------------------------------------------------------------------------------------------------+\n",
            "| Trial name                  status         iter     total time (s)            lr     train_loss     train_accuracy     val_loss |\n",
            "+---------------------------------------------------------------------------------------------------------------------------------+\n",
            "| CIFAR10Trainable_b294ba49   RUNNING                                                                                             |\n",
            "| CIFAR10Trainable_e3cff7f7   TERMINATED        2            95.6726   0.00745037        0.96663            0.658375     0.91864  |\n",
            "| CIFAR10Trainable_74f5fc2c   TERMINATED        2            96.4023   0.0119784         0.985231           0.653675     0.906424 |\n",
            "| CIFAR10Trainable_a6423a04   TERMINATED        1            49.4423   0.0106638         1.35988            0.50815      1.20288  |\n",
            "| CIFAR10Trainable_4448697e   TERMINATED        2            84.9569   0.000707701       0.880719           0.6897       0.882243 |\n",
            "| CIFAR10Trainable_258fc78e   TERMINATED        2            85.3616   0.00023239        0.916326           0.6848       0.899986 |\n",
            "| CIFAR10Trainable_cd686066   TERMINATED        2            89.3655   0.000334648       0.903468           0.685825     0.966193 |\n",
            "| CIFAR10Trainable_f3d11d92   TERMINATED        1            49.8288   0.14317           1.60672            0.41195      1.41895  |\n",
            "| CIFAR10Trainable_157c073c   TERMINATED        2            80.3805   0.000828533       0.891922           0.686275     0.850796 |\n",
            "| CIFAR10Trainable_5e1a8ce8   TERMINATED        2            79.5306   0.00019063        0.948412           0.6762       0.91535  |\n",
            "+---------------------------------------------------------------------------------------------------------------------------------+\n",
            "\n",
            "Trial CIFAR10Trainable_b294ba49 finished iteration 1 at 2023-10-23 21:56:55. Total running time: 7min 34s\n",
            "+----------------------------------------------------+\n",
            "| Trial CIFAR10Trainable_b294ba49 result             |\n",
            "+----------------------------------------------------+\n",
            "| checkpoint_dir_name                                |\n",
            "| time_this_iter_s                           23.1643 |\n",
            "| time_total_s                               23.1643 |\n",
            "| training_iteration                               1 |\n",
            "| lr                                         0.00582 |\n",
            "| test_accuracy                               0.6212 |\n",
            "| test_loss                                  1.07649 |\n",
            "| train_accuracy                             0.52697 |\n",
            "| train_loss                                 1.32002 |\n",
            "| val_accuracy                                0.6211 |\n",
            "| val_loss                                   1.06494 |\n",
            "+----------------------------------------------------+\n",
            "\n",
            "Trial CIFAR10Trainable_b294ba49 finished iteration 2 at 2023-10-23 21:57:18. Total running time: 7min 58s\n",
            "+----------------------------------------------------+\n",
            "| Trial CIFAR10Trainable_b294ba49 result             |\n",
            "+----------------------------------------------------+\n",
            "| checkpoint_dir_name                                |\n",
            "| time_this_iter_s                           23.3329 |\n",
            "| time_total_s                               46.4971 |\n",
            "| training_iteration                               2 |\n",
            "| lr                                         0.00582 |\n",
            "| test_accuracy                                0.666 |\n",
            "| test_loss                                   0.9531 |\n",
            "| train_accuracy                             0.67012 |\n",
            "| train_loss                                 0.94258 |\n",
            "| val_accuracy                                0.6646 |\n",
            "| val_loss                                   0.96374 |\n",
            "+----------------------------------------------------+\n",
            "Trial CIFAR10Trainable_b294ba49 saved a checkpoint for iteration 2 at: (local)/root/ray_results/CIFAR10Trainable_2023-10-23_21-49-20/CIFAR10Trainable_b294ba49_10_epochs=2,lr=0.0058_2023-10-23_21-55-11/checkpoint_000000\n",
            "\n",
            "Trial CIFAR10Trainable_b294ba49 completed after 2 iterations at 2023-10-23 21:57:18. Total running time: 7min 58s\n",
            "\n",
            "Trial status: 10 TERMINATED\n",
            "Current time: 2023-10-23 21:57:18. Total running time: 7min 58s\n",
            "Logical resource usage: 0/2 CPUs, 0.5/1 GPUs (0.0/1.0 accelerator_type:None)\n",
            "+---------------------------------------------------------------------------------------------------------------------------------+\n",
            "| Trial name                  status         iter     total time (s)            lr     train_loss     train_accuracy     val_loss |\n",
            "+---------------------------------------------------------------------------------------------------------------------------------+\n",
            "| CIFAR10Trainable_e3cff7f7   TERMINATED        2            95.6726   0.00745037        0.96663            0.658375     0.91864  |\n",
            "| CIFAR10Trainable_74f5fc2c   TERMINATED        2            96.4023   0.0119784         0.985231           0.653675     0.906424 |\n",
            "| CIFAR10Trainable_a6423a04   TERMINATED        1            49.4423   0.0106638         1.35988            0.50815      1.20288  |\n",
            "| CIFAR10Trainable_4448697e   TERMINATED        2            84.9569   0.000707701       0.880719           0.6897       0.882243 |\n",
            "| CIFAR10Trainable_258fc78e   TERMINATED        2            85.3616   0.00023239        0.916326           0.6848       0.899986 |\n",
            "| CIFAR10Trainable_cd686066   TERMINATED        2            89.3655   0.000334648       0.903468           0.685825     0.966193 |\n",
            "| CIFAR10Trainable_f3d11d92   TERMINATED        1            49.8288   0.14317           1.60672            0.41195      1.41895  |\n",
            "| CIFAR10Trainable_157c073c   TERMINATED        2            80.3805   0.000828533       0.891922           0.686275     0.850796 |\n",
            "| CIFAR10Trainable_5e1a8ce8   TERMINATED        2            79.5306   0.00019063        0.948412           0.6762       0.91535  |\n",
            "| CIFAR10Trainable_b294ba49   TERMINATED        2            46.4971   0.00581863        0.942577           0.670125     0.963737 |\n",
            "+---------------------------------------------------------------------------------------------------------------------------------+\n",
            "\n"
          ]
        }
      ],
      "source": [
        "search_space = {\n",
        "    \"lr\": hp.loguniform(\"lr\", -10, -1),\n",
        "    \"epochs\":10,\n",
        "}\n",
        "\n",
        "hyperopt_search = HyperOptSearch(search_space, metric=\"val_accuracy\", mode=\"max\")\n",
        "\n",
        "# Set up the ASHA scheduler\n",
        "asha_scheduler = ASHAScheduler(\n",
        "    metric=\"val_accuracy\", # Metrica a evaluar\n",
        "    mode=\"max\",  # Queremos maximizar\n",
        "    max_t=search_space['epochs'],    # Numero maximo de iteraciones un trial/experimento puede ejecutarse\n",
        "    grace_period=1,  # Numero minimo de ejecuciones\n",
        "    reduction_factor=2 # Modelos eliminados por ronda\n",
        ")\n",
        "\n",
        "analysis = tune.run(\n",
        "    CIFAR10Trainable,\n",
        "    search_alg=hyperopt_search,\n",
        "    resources_per_trial=resources_per_trial,\n",
        "    scheduler=asha_scheduler,\n",
        "    num_samples=10, # Numero de Experimentos\n",
        "    checkpoint_at_end=True\n",
        "\n",
        ")"
      ]
    }
  ],
  "metadata": {
    "accelerator": "GPU",
    "colab": {
      "gpuType": "T4",
      "provenance": []
    },
    "kernelspec": {
      "display_name": "Python 3",
      "name": "python3"
    },
    "language_info": {
      "name": "python"
    }
  },
  "nbformat": 4,
  "nbformat_minor": 0
}
