{
 "cells": [
  {
   "cell_type": "markdown",
   "metadata": {},
   "source": [
    "Escribe tu nombre y Clave"
   ]
  },
  {
   "cell_type": "markdown",
   "metadata": {},
   "source": [
    "Nombre: \n",
    " \n",
    "Clave:  "
   ]
  },
  {
   "cell_type": "markdown",
   "metadata": {},
   "source": [
    "# Recomendacion de Modelo de Default Para Banco"
   ]
  },
  {
   "cell_type": "markdown",
   "metadata": {},
   "source": [
    "El objetivo de este proyecto es entrenar un modelo y recomendar al banco como utilizarlo.  \n",
    "Puedes agregar mas snippets, usar fuentes de internet, otras librerias, comentar con otras personas, pero asegurate de ser muy explicitx con tu explicacion. Imagina que este documento lo va a evaluar una persona tecnica y una persona no tecnica, por lo que tienes que ser muy cuidadosx con lo que dices pues tiene que ser verdad y no tener errores metodologicos, pero tambien partes que sean faciles de leer."
   ]
  },
  {
   "cell_type": "markdown",
   "metadata": {},
   "source": [
    "1. Deberas replicar el analisis/codigo que utilizamos en el `AutoML` coun autogluon (o con cualquier otra libreria que desees), pero tendras que elimar la columna que especifica la `tasa de interes` o columnas equivalentes.  \n",
    "   \n",
    "2. Debes elegir (entrenar) dos modelo que no tenga `leakage`, que sean estadisticamente robustos y utiles para la operacion. Debes explicar de manera detallada con graficas, tablas y palabras por que propones el uso de cada modelo\n",
    "   1. El primer modelo debe ser explicable (por regulacion debes ser capaz de explicar por que no se da el prestamo). Ofrece una guia para explicar como podria defenderse el banco con el modelo que promones\n",
    "   2. El segundo debe ser elegido sin importar si es explicable o no  \n",
    "   \n",
    "3. Finalmente usando uno de los modelos anteriores (elige el que quieras) debes proponer al banco que tasa de interes utilizar para los prestamos (basandose en la probabilidad del modelo) bajo los siguientes escenarios\n",
    "   1. El banco no es adverso al riesgo y quiere saber cual es la minima tasa a la que deberia prestar para no perder o ganar dinero (Valor esperado del prestamo igual a cero)\n",
    "   2. El banco es adverso al riesgo y busca la tasa para la cual el valor esperado del prestamo represente una ganancia de 1.5 sobre el prestamo (Valor esperado del prestamo 1.5)\n",
    "   3. El banco quiere obtener 1.2 veces el valor del prestamo, pero quiere que por lo menos el 30% de los prestamos realizados sean pagados (en promedio o valor esperado) "
   ]
  },
  {
   "cell_type": "markdown",
   "metadata": {},
   "source": [
    "# Codigo para prediccion"
   ]
  },
  {
   "cell_type": "markdown",
   "metadata": {},
   "source": [
    "En esta seccion deberas replicar el proceso de entramiento para los dos modelos (interpretable y no interpretable)  \n",
    "+ Utiliza los mismos datos que usamos en el proyecto de AutoML\n",
    "+ Recuerda que debes quitar todas las columnas que incluyan la tasa de interes en tu prediccion, pues deberas proponer la tasa de interes mas tarde"
   ]
  },
  {
   "cell_type": "markdown",
   "metadata": {},
   "source": [
    "### ETL"
   ]
  },
  {
   "cell_type": "code",
   "execution_count": null,
   "metadata": {
    "vscode": {
     "languageId": "plaintext"
    }
   },
   "outputs": [],
   "source": []
  },
  {
   "cell_type": "markdown",
   "metadata": {},
   "source": [
    "### EDA"
   ]
  },
  {
   "cell_type": "code",
   "execution_count": null,
   "metadata": {
    "vscode": {
     "languageId": "plaintext"
    }
   },
   "outputs": [],
   "source": []
  },
  {
   "cell_type": "markdown",
   "metadata": {},
   "source": [
    "### EDA Tasa de Interes"
   ]
  },
  {
   "cell_type": "markdown",
   "metadata": {},
   "source": [
    "Asegura de que los datos sean robustos ante la tasa de interes.  \n",
    "+ Que pasaria si historicamente el banco solo ha ofrecido uno, dos, o tres tipos de tasa de interes? Como limitaria esto tus recomendaciones? \n",
    "  + Piensa que si solo existen ciertos tipos de tasa de interes tus datos estan sesgados o condicionados a estas tasas de interes, por lo que proponer tasas diferentes a estas causaria problemas.  \n",
    "\n",
    "Incluso si la muestra esta sesgada (o no), imagina que este problema no existe para el resto del Notebook\n"
   ]
  },
  {
   "cell_type": "markdown",
   "metadata": {},
   "source": []
  },
  {
   "cell_type": "markdown",
   "metadata": {},
   "source": [
    "### Modelo Interpretable"
   ]
  },
  {
   "cell_type": "code",
   "execution_count": null,
   "metadata": {
    "vscode": {
     "languageId": "plaintext"
    }
   },
   "outputs": [],
   "source": []
  },
  {
   "cell_type": "markdown",
   "metadata": {},
   "source": [
    "### Modelo no Interpretable"
   ]
  },
  {
   "cell_type": "code",
   "execution_count": null,
   "metadata": {
    "vscode": {
     "languageId": "plaintext"
    }
   },
   "outputs": [],
   "source": []
  },
  {
   "cell_type": "markdown",
   "metadata": {},
   "source": [
    "## Seleccion/Propuesta de Modelo"
   ]
  },
  {
   "cell_type": "markdown",
   "metadata": {},
   "source": [
    "Explica por que sugieres el modelo, por que es bueno, por que es malo, que metrica(s) usaste para elegirlo. Basicamente tienes que convencer al banco que tu modelo es bueno. Usa graficas, tablas, etc."
   ]
  },
  {
   "cell_type": "markdown",
   "metadata": {},
   "source": [
    "### Modelo Interpretable"
   ]
  },
  {
   "cell_type": "markdown",
   "metadata": {},
   "source": []
  },
  {
   "cell_type": "code",
   "execution_count": null,
   "metadata": {
    "vscode": {
     "languageId": "plaintext"
    }
   },
   "outputs": [],
   "source": []
  },
  {
   "cell_type": "markdown",
   "metadata": {},
   "source": [
    "### Modelo no Interpretable"
   ]
  },
  {
   "cell_type": "markdown",
   "metadata": {},
   "source": []
  },
  {
   "cell_type": "code",
   "execution_count": null,
   "metadata": {
    "vscode": {
     "languageId": "plaintext"
    }
   },
   "outputs": [],
   "source": []
  },
  {
   "cell_type": "markdown",
   "metadata": {},
   "source": [
    "## Propuesta de tasa de interes"
   ]
  },
  {
   "cell_type": "markdown",
   "metadata": {},
   "source": [
    "En esta seccion tienes que crear un sistema/funciones/codigo que le funcione en produccion al banco. El banco te pide que crees un sistema para 3 posibles escenarios."
   ]
  },
  {
   "cell_type": "markdown",
   "metadata": {},
   "source": [
    "Piensa que datos vas a utilizar para evaluar estas tasas (train o test?). Piensas que tienes que evaluar como se va a comportar en la realidad. Y tienes que tomar decisiones ahora, para el futuro (produccion)"
   ]
  },
  {
   "cell_type": "markdown",
   "metadata": {},
   "source": [
    "### Valor esperado del prestamo igual a cero"
   ]
  },
  {
   "cell_type": "markdown",
   "metadata": {},
   "source": [
    "Encuentra las tasas de interes para la cual el valor esperado del prestamo es igual a cero"
   ]
  },
  {
   "cell_type": "code",
   "execution_count": null,
   "metadata": {
    "vscode": {
     "languageId": "plaintext"
    }
   },
   "outputs": [],
   "source": []
  },
  {
   "cell_type": "markdown",
   "metadata": {},
   "source": [
    "### Valor esperado del prestamo igual a 1.5 "
   ]
  },
  {
   "cell_type": "markdown",
   "metadata": {},
   "source": [
    "Encuentra la tasa de interes para la cuel el valor esperado del prestamo es igual a 1.5"
   ]
  },
  {
   "cell_type": "code",
   "execution_count": null,
   "metadata": {
    "vscode": {
     "languageId": "plaintext"
    }
   },
   "outputs": [],
   "source": []
  },
  {
   "cell_type": "markdown",
   "metadata": {},
   "source": [
    "### Valor esperado del prestamo 1.2 y default menor a 30%"
   ]
  },
  {
   "cell_type": "markdown",
   "metadata": {},
   "source": [
    "Encuentra la tasa de interes necesaria para que el valor esperado de prestamo para el banco sea de por lo menos 1.2, pero ademas el valor esperado de los defaults sea menor al 30%"
   ]
  },
  {
   "cell_type": "code",
   "execution_count": null,
   "metadata": {
    "vscode": {
     "languageId": "plaintext"
    }
   },
   "outputs": [],
   "source": []
  },
  {
   "cell_type": "markdown",
   "metadata": {},
   "source": [
    "## Para pensar"
   ]
  },
  {
   "cell_type": "markdown",
   "metadata": {},
   "source": [
    "Que pasaria con los modelos que propusiste, si resulta que la tasa de interes afecta la probabilidad de pago (lo cual es muy probable)?\n",
    "+ Explica el problema que apareceria a las personas del banco para evitar problemas con tu modelo, si lo explicas mal te veras mal cuando falle.\n",
    "+ Como podrias solucionarlo (piensa si basta con agregar la tasa de interes y sobre la causalidad y correlacion)"
   ]
  },
  {
   "cell_type": "markdown",
   "metadata": {},
   "source": []
  },
  {
   "cell_type": "markdown",
   "metadata": {},
   "source": []
  }
 ],
 "metadata": {
  "language_info": {
   "name": "python"
  },
  "orig_nbformat": 4
 },
 "nbformat": 4,
 "nbformat_minor": 2
}
